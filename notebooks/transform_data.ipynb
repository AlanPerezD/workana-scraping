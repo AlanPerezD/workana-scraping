{
 "cells": [
  {
   "attachments": {},
   "cell_type": "markdown",
   "metadata": {},
   "source": [
    "# Exploratory analysis and data processing"
   ]
  },
  {
   "cell_type": "code",
   "execution_count": 1,
   "metadata": {},
   "outputs": [],
   "source": [
    "# import libs\n",
    "import pandas as pd"
   ]
  },
  {
   "attachments": {},
   "cell_type": "markdown",
   "metadata": {},
   "source": [
    "## Getting data"
   ]
  },
  {
   "cell_type": "code",
   "execution_count": 2,
   "metadata": {},
   "outputs": [
    {
     "data": {
      "text/plain": [
       "(450, 7)"
      ]
     },
     "execution_count": 2,
     "metadata": {},
     "output_type": "execute_result"
    }
   ],
   "source": [
    "# read csv\n",
    "df_raw = pd.read_csv('../workana_scraping/data/data_raw.csv')\n",
    "\n",
    "# check shape\n",
    "df_raw.shape"
   ]
  },
  {
   "cell_type": "code",
   "execution_count": 3,
   "metadata": {},
   "outputs": [
    {
     "data": {
      "text/plain": [
       "(450, 7)"
      ]
     },
     "execution_count": 3,
     "metadata": {},
     "output_type": "execute_result"
    }
   ],
   "source": [
    "# create a copy from original data\n",
    "df = df_raw.copy()\n",
    "\n",
    "# check shape\n",
    "df_raw.shape"
   ]
  },
  {
   "attachments": {},
   "cell_type": "markdown",
   "metadata": {},
   "source": [
    "## Knowing dataframe"
   ]
  },
  {
   "cell_type": "code",
   "execution_count": 4,
   "metadata": {},
   "outputs": [
    {
     "data": {
      "text/plain": [
       "(450, 7)"
      ]
     },
     "execution_count": 4,
     "metadata": {},
     "output_type": "execute_result"
    }
   ],
   "source": [
    "# check shape\n",
    "df.shape"
   ]
  },
  {
   "cell_type": "code",
   "execution_count": 5,
   "metadata": {},
   "outputs": [
    {
     "name": "stdout",
     "output_type": "stream",
     "text": [
      "<class 'pandas.core.frame.DataFrame'>\n",
      "RangeIndex: 450 entries, 0 to 449\n",
      "Data columns (total 7 columns):\n",
      " #   Column        Non-Null Count  Dtype \n",
      "---  ------        --------------  ----- \n",
      " 0   Job           450 non-null    object\n",
      " 1   Publish Date  450 non-null    object\n",
      " 2   Skills        450 non-null    object\n",
      " 3   Budget        450 non-null    object\n",
      " 4   Bids          450 non-null    int64 \n",
      " 5   Summary       450 non-null    object\n",
      " 6   Link          450 non-null    object\n",
      "dtypes: int64(1), object(6)\n",
      "memory usage: 24.7+ KB\n"
     ]
    }
   ],
   "source": [
    "# check df info\n",
    "df.info()"
   ]
  },
  {
   "cell_type": "code",
   "execution_count": 6,
   "metadata": {},
   "outputs": [
    {
     "data": {
      "text/plain": [
       "Job             object\n",
       "Publish Date    object\n",
       "Skills          object\n",
       "Budget          object\n",
       "Bids             int64\n",
       "Summary         object\n",
       "Link            object\n",
       "dtype: object"
      ]
     },
     "execution_count": 6,
     "metadata": {},
     "output_type": "execute_result"
    }
   ],
   "source": [
    "# check data types\n",
    "df.dtypes"
   ]
  },
  {
   "cell_type": "code",
   "execution_count": 7,
   "metadata": {},
   "outputs": [
    {
     "data": {
      "text/plain": [
       "Job             450\n",
       "Publish Date    450\n",
       "Skills          450\n",
       "Budget          450\n",
       "Bids            450\n",
       "Summary         450\n",
       "Link            450\n",
       "dtype: int64"
      ]
     },
     "execution_count": 7,
     "metadata": {},
     "output_type": "execute_result"
    }
   ],
   "source": [
    "# count not null\n",
    "df.count()"
   ]
  },
  {
   "cell_type": "code",
   "execution_count": 8,
   "metadata": {},
   "outputs": [
    {
     "name": "stdout",
     "output_type": "stream",
     "text": [
      "Valores nulos na coluna Job: 0\n",
      "Valores nulos na coluna Publish Date: 0\n",
      "Valores nulos na coluna Skills: 0\n",
      "Valores nulos na coluna Budget: 0\n",
      "Valores nulos na coluna Bids: 0\n",
      "Valores nulos na coluna Summary: 0\n",
      "Valores nulos na coluna Link: 0\n"
     ]
    }
   ],
   "source": [
    "# search for null\n",
    "for c in df.columns:\n",
    "    try:\n",
    "        num_nulls = df.shape[0] - df[c].count()\n",
    "        print(f'Valores nulos na coluna {c}:',num_nulls)\n",
    "    except:\n",
    "        print(f'Erros encontrados na coluna {c}:')"
   ]
  },
  {
   "cell_type": "code",
   "execution_count": 9,
   "metadata": {},
   "outputs": [
    {
     "name": "stdout",
     "output_type": "stream",
     "text": [
      "<class 'pandas.core.frame.DataFrame'>\n",
      "RangeIndex: 450 entries, 0 to 449\n",
      "Data columns (total 7 columns):\n",
      " #   Column        Non-Null Count  Dtype \n",
      "---  ------        --------------  ----- \n",
      " 0   Job           450 non-null    object\n",
      " 1   Publish Date  450 non-null    object\n",
      " 2   Skills        450 non-null    object\n",
      " 3   Budget        450 non-null    object\n",
      " 4   Bids          450 non-null    int64 \n",
      " 5   Summary       450 non-null    object\n",
      " 6   Link          450 non-null    object\n",
      "dtypes: int64(1), object(6)\n",
      "memory usage: 24.7+ KB\n",
      "None\n"
     ]
    }
   ],
   "source": [
    "# if error, drop line\n",
    "# df = df.drop(df[df['Bids'] == 'Erro no orçamento 10 da página5'].index)\n",
    "\n",
    "# change Bids to int type\n",
    "df['Bids'] = df['Bids'].astype(int)\n",
    "\n",
    "print(df.info())"
   ]
  },
  {
   "cell_type": "code",
   "execution_count": 10,
   "metadata": {},
   "outputs": [
    {
     "data": {
      "text/plain": [
       "(450, 7)"
      ]
     },
     "execution_count": 10,
     "metadata": {},
     "output_type": "execute_result"
    }
   ],
   "source": [
    "df.shape"
   ]
  },
  {
   "cell_type": "markdown",
   "metadata": {},
   "source": [
    "## Change types"
   ]
  },
  {
   "attachments": {},
   "cell_type": "markdown",
   "metadata": {},
   "source": [
    "### Bids column"
   ]
  },
  {
   "cell_type": "code",
   "execution_count": 11,
   "metadata": {},
   "outputs": [],
   "source": [
    "# if error, drop line\n",
    "df = df.drop(df[df['Bids'] == 'Erro no orçamento 10 da página5'].index)"
   ]
  },
  {
   "cell_type": "code",
   "execution_count": 12,
   "metadata": {},
   "outputs": [],
   "source": [
    "# change Bids to int type\n",
    "df['Bids'] = df['Bids'].astype(int)"
   ]
  },
  {
   "attachments": {},
   "cell_type": "markdown",
   "metadata": {},
   "source": [
    "### Publish Date column"
   ]
  },
  {
   "cell_type": "code",
   "execution_count": 13,
   "metadata": {},
   "outputs": [],
   "source": [
    "# dict pt x en\n",
    "months = {\n",
    "    'Janeiro': 'January',\n",
    "    'Fevereiro': 'February',\n",
    "    'Março': 'March',\n",
    "    'Abril': 'April',\n",
    "    'Maio': 'May',\n",
    "    'Junho': 'June',\n",
    "    'Julho': 'July',\n",
    "    'Agosto': 'August',\n",
    "    'Setembro': 'September',\n",
    "    'Outubro': 'October',\n",
    "    'Novembro': 'November',\n",
    "    'Dezembro': 'December'\n",
    "}"
   ]
  },
  {
   "cell_type": "code",
   "execution_count": 14,
   "metadata": {},
   "outputs": [
    {
     "name": "stdout",
     "output_type": "stream",
     "text": [
      "<class 'pandas.core.frame.DataFrame'>\n",
      "RangeIndex: 450 entries, 0 to 449\n",
      "Data columns (total 7 columns):\n",
      " #   Column        Non-Null Count  Dtype         \n",
      "---  ------        --------------  -----         \n",
      " 0   Job           450 non-null    object        \n",
      " 1   Publish Date  450 non-null    datetime64[ns]\n",
      " 2   Skills        450 non-null    object        \n",
      " 3   Budget        450 non-null    object        \n",
      " 4   Bids          450 non-null    int64         \n",
      " 5   Summary       450 non-null    object        \n",
      " 6   Link          450 non-null    object        \n",
      "dtypes: datetime64[ns](1), int64(1), object(5)\n",
      "memory usage: 24.7+ KB\n",
      "None\n"
     ]
    }
   ],
   "source": [
    "# replaces month names in portuguese with their english equivalents\n",
    "for m_pt, m_en in months.items():\n",
    "    df['Publish Date'] = df['Publish Date'].str.replace(m_pt, m_en)\n",
    "    df['Publish Date'] = df['Publish Date'].str.replace(' de ', ' ')\n",
    "\n",
    "# change type\n",
    "df['Publish Date'] = pd.to_datetime(df['Publish Date'], format='%d %B %Y %H:%M')\n",
    "df['Publish Date']\n",
    "\n",
    "print(df.info())"
   ]
  },
  {
   "cell_type": "code",
   "execution_count": 15,
   "metadata": {},
   "outputs": [
    {
     "data": {
      "text/plain": [
       "(450, 7)"
      ]
     },
     "execution_count": 15,
     "metadata": {},
     "output_type": "execute_result"
    }
   ],
   "source": [
    "df.shape"
   ]
  },
  {
   "attachments": {},
   "cell_type": "markdown",
   "metadata": {},
   "source": [
    "## Create Category & Subcategory columns"
   ]
  },
  {
   "cell_type": "code",
   "execution_count": 16,
   "metadata": {},
   "outputs": [
    {
     "name": "stdout",
     "output_type": "stream",
     "text": [
      "A palavra \"Categoria\" aparece nas linhas: [0, 1, 4, 5, 6, 7, 8, 9, 10, 12, 13, 14, 18, 19, 20, 22, 24, 25, 26, 27, 28, 29, 31, 32, 33, 35, 36, 37, 38, 39, 40, 41, 43, 45, 46, 47, 48, 49, 50, 51, 54, 55, 56, 57, 58, 59, 62, 63, 64, 67, 69, 70, 71, 72, 73, 74, 75, 76, 77, 78, 80, 81, 82, 84, 85, 86, 88, 90, 91, 93, 94, 95, 96, 97, 98, 99, 100, 102, 103, 105, 107, 108, 109, 110, 113, 114, 115, 116, 117, 118, 120, 121, 125, 126, 127, 129, 131, 133, 134, 135, 136, 137, 139, 141, 142, 143, 144, 145, 146, 147, 148, 149, 151, 152, 153, 154, 155, 156, 158, 160, 161, 162, 163, 164, 165, 166, 169, 170, 171, 172, 176, 177, 178, 179, 180, 181, 184, 186, 187, 188, 189, 190, 193, 195, 197, 198, 199, 203, 204, 205, 206, 207, 208, 210, 211, 213, 214, 215, 216, 217, 218, 219, 220, 221, 222, 223, 225, 226, 227, 229, 230, 232, 233, 234, 235, 236, 237, 238, 239, 240, 241, 243, 244, 246, 247, 248, 250, 251, 252, 253, 255, 256, 257, 259, 260, 261, 262, 263, 265, 266, 267, 269, 270, 271, 273, 274, 275, 278, 279, 280, 281, 282, 283, 284, 286, 288, 289, 291, 293, 297, 298, 299, 300, 301, 302, 303, 304, 305, 306, 307, 308, 309, 310, 311, 313, 314, 315, 316, 317, 318, 319, 320, 321, 324, 325, 326, 327, 328, 330, 331, 332, 333, 334, 335, 336, 337, 340, 341, 342, 343, 344, 345, 346, 351, 352, 353, 354, 356, 358, 359, 360, 361, 362, 363, 364, 365, 366, 368, 369, 370, 372, 373, 375, 376, 377, 378, 379, 380, 383, 384, 385, 386, 387, 388, 389, 390, 391, 393, 395, 396, 397, 398, 400, 401, 402, 403, 405, 406, 407, 408, 409, 410, 412, 414, 415, 417, 419, 420, 423, 424, 426, 428, 429, 430, 432, 433, 434, 436, 438, 439, 440, 441, 442, 443, 445, 446, 447, 449]\n"
     ]
    }
   ],
   "source": [
    "# where exists 'Categoria'\n",
    "count_cat = df[df['Summary'].str.contains('Categoria')].index.tolist()\n",
    "print(f'A palavra \"Categoria\" aparece nas linhas: {count_cat}')"
   ]
  },
  {
   "cell_type": "code",
   "execution_count": 17,
   "metadata": {},
   "outputs": [
    {
     "name": "stdout",
     "output_type": "stream",
     "text": [
      "A palavra \"Categoria\" aparece nas linhas: [0, 1, 4, 5, 7, 8, 9, 10, 12, 13, 14, 19, 22, 24, 25, 26, 27, 28, 29, 31, 32, 33, 35, 37, 38, 39, 40, 41, 43, 45, 47, 48, 49, 50, 51, 54, 55, 56, 57, 58, 59, 62, 64, 67, 69, 70, 72, 73, 74, 75, 76, 77, 78, 80, 81, 82, 85, 86, 88, 91, 93, 94, 95, 96, 97, 98, 99, 100, 102, 103, 107, 108, 110, 113, 114, 115, 117, 120, 125, 126, 129, 131, 133, 134, 135, 136, 137, 141, 142, 143, 144, 146, 147, 148, 149, 151, 152, 153, 154, 155, 156, 158, 160, 161, 162, 163, 164, 165, 166, 169, 170, 172, 176, 177, 178, 179, 180, 181, 184, 186, 187, 188, 189, 193, 195, 197, 198, 199, 203, 204, 205, 206, 207, 208, 210, 211, 213, 214, 215, 216, 217, 218, 219, 220, 221, 222, 223, 225, 226, 227, 230, 232, 233, 235, 236, 237, 238, 239, 241, 243, 244, 246, 247, 248, 250, 251, 253, 255, 256, 257, 259, 261, 263, 265, 266, 267, 269, 270, 273, 275, 278, 279, 281, 282, 283, 284, 286, 288, 289, 291, 293, 297, 298, 299, 300, 301, 302, 303, 304, 305, 306, 308, 309, 310, 311, 313, 314, 315, 316, 317, 318, 319, 320, 321, 324, 326, 327, 328, 330, 331, 332, 333, 334, 335, 336, 337, 340, 341, 342, 343, 344, 345, 346, 351, 352, 353, 354, 356, 358, 359, 360, 361, 362, 363, 364, 365, 366, 368, 369, 370, 372, 373, 375, 376, 378, 379, 380, 383, 386, 387, 389, 390, 391, 393, 395, 396, 397, 398, 400, 401, 402, 403, 405, 406, 407, 408, 409, 410, 412, 414, 417, 419, 420, 423, 426, 428, 429, 430, 432, 433, 434, 436, 438, 439, 440, 441, 442, 443, 445, 446, 447, 449]\n"
     ]
    }
   ],
   "source": [
    "# where exists 'Subategoria'\n",
    "count_subcat = df[df['Summary'].str.contains('Subcategoria')].index.tolist()\n",
    "print(f'A palavra \"Categoria\" aparece nas linhas: {count_subcat}')"
   ]
  },
  {
   "cell_type": "code",
   "execution_count": 18,
   "metadata": {},
   "outputs": [],
   "source": [
    "# extract data\n",
    "df['Category'] = df['Summary'].str.extract('Categoria:\\s*(.*)\\n')\n",
    "df['Subcategory'] = df['Summary'].str.extract('Subcategoria:\\s*(.*)\\n')\n",
    "\n",
    "df[['Category','Subcategory']] = df[['Category','Subcategory']].fillna('N/I')"
   ]
  },
  {
   "cell_type": "code",
   "execution_count": 19,
   "metadata": {},
   "outputs": [],
   "source": [
    "# remove after line break\n",
    "df['Summary'] = df['Summary'].str.split('\\n').str[0]"
   ]
  },
  {
   "cell_type": "code",
   "execution_count": 20,
   "metadata": {},
   "outputs": [
    {
     "data": {
      "text/plain": [
       "(450, 9)"
      ]
     },
     "execution_count": 20,
     "metadata": {},
     "output_type": "execute_result"
    }
   ],
   "source": [
    "df.shape"
   ]
  },
  {
   "cell_type": "code",
   "execution_count": 21,
   "metadata": {},
   "outputs": [
    {
     "name": "stdout",
     "output_type": "stream",
     "text": [
      "<class 'pandas.core.frame.DataFrame'>\n",
      "RangeIndex: 450 entries, 0 to 449\n",
      "Data columns (total 9 columns):\n",
      " #   Column        Non-Null Count  Dtype         \n",
      "---  ------        --------------  -----         \n",
      " 0   Job           450 non-null    object        \n",
      " 1   Publish Date  450 non-null    datetime64[ns]\n",
      " 2   Skills        450 non-null    object        \n",
      " 3   Budget        450 non-null    object        \n",
      " 4   Bids          450 non-null    int64         \n",
      " 5   Summary       450 non-null    object        \n",
      " 6   Link          450 non-null    object        \n",
      " 7   Category      450 non-null    object        \n",
      " 8   Subcategory   450 non-null    object        \n",
      "dtypes: datetime64[ns](1), int64(1), object(7)\n",
      "memory usage: 31.8+ KB\n"
     ]
    }
   ],
   "source": [
    "df.info()"
   ]
  },
  {
   "attachments": {},
   "cell_type": "markdown",
   "metadata": {},
   "source": [
    "## Create dummy columns from Skills"
   ]
  },
  {
   "cell_type": "code",
   "execution_count": 22,
   "metadata": {},
   "outputs": [],
   "source": [
    "# Replace substring - exclude spaces -ok\n",
    "df['Skills'] = df['Skills'].replace(' ','', regex=True)\n",
    "# df.head(1)"
   ]
  },
  {
   "cell_type": "code",
   "execution_count": 23,
   "metadata": {},
   "outputs": [],
   "source": [
    "# create dummy columns\n",
    "df = pd.concat([df, df['Skills'].str.get_dummies(sep=',')], axis = 1)\n",
    "if '+' in df.columns:\n",
    "    df.drop('+', axis=1, inplace=True)\n",
    "# df.shape"
   ]
  },
  {
   "cell_type": "code",
   "execution_count": 24,
   "metadata": {},
   "outputs": [
    {
     "data": {
      "text/plain": [
       "(450, 134)"
      ]
     },
     "execution_count": 24,
     "metadata": {},
     "output_type": "execute_result"
    }
   ],
   "source": [
    "df.shape"
   ]
  },
  {
   "cell_type": "code",
   "execution_count": 25,
   "metadata": {},
   "outputs": [
    {
     "data": {
      "text/html": [
       "<div>\n",
       "<style scoped>\n",
       "    .dataframe tbody tr th:only-of-type {\n",
       "        vertical-align: middle;\n",
       "    }\n",
       "\n",
       "    .dataframe tbody tr th {\n",
       "        vertical-align: top;\n",
       "    }\n",
       "\n",
       "    .dataframe thead th {\n",
       "        text-align: right;\n",
       "    }\n",
       "</style>\n",
       "<table border=\"1\" class=\"dataframe\">\n",
       "  <thead>\n",
       "    <tr style=\"text-align: right;\">\n",
       "      <th></th>\n",
       "      <th>Job</th>\n",
       "      <th>Publish Date</th>\n",
       "      <th>Skills</th>\n",
       "      <th>Budget</th>\n",
       "      <th>Bids</th>\n",
       "      <th>Summary</th>\n",
       "      <th>Link</th>\n",
       "      <th>Category</th>\n",
       "      <th>Subcategory</th>\n",
       "      <th>3d</th>\n",
       "      <th>...</th>\n",
       "      <th>WebScraping</th>\n",
       "      <th>Wix</th>\n",
       "      <th>WooCommerce</th>\n",
       "      <th>WordPress</th>\n",
       "      <th>YouTube</th>\n",
       "      <th>['N/I']</th>\n",
       "      <th>eBooks</th>\n",
       "      <th>iOS</th>\n",
       "      <th>iPhone</th>\n",
       "      <th>vtiger</th>\n",
       "    </tr>\n",
       "  </thead>\n",
       "  <tbody>\n",
       "    <tr>\n",
       "      <th>0</th>\n",
       "      <td>Desenvolvimento de Ferramenta Para Checkout We...</td>\n",
       "      <td>2023-05-11 12:50:00</td>\n",
       "      <td>Magento,PHP,WordPress</td>\n",
       "      <td>USD 1.000 - 3.000</td>\n",
       "      <td>1</td>\n",
       "      <td>Procuro dev full stack para projeto de desenvo...</td>\n",
       "      <td>https://www.workana.com/job/desenvolvimento-de...</td>\n",
       "      <td>TI e Programação</td>\n",
       "      <td>Lojas Virtuais (e-commerce)</td>\n",
       "      <td>0</td>\n",
       "      <td>...</td>\n",
       "      <td>0</td>\n",
       "      <td>0</td>\n",
       "      <td>0</td>\n",
       "      <td>1</td>\n",
       "      <td>0</td>\n",
       "      <td>0</td>\n",
       "      <td>0</td>\n",
       "      <td>0</td>\n",
       "      <td>0</td>\n",
       "      <td>0</td>\n",
       "    </tr>\n",
       "  </tbody>\n",
       "</table>\n",
       "<p>1 rows × 134 columns</p>\n",
       "</div>"
      ],
      "text/plain": [
       "                                                 Job        Publish Date   \n",
       "0  Desenvolvimento de Ferramenta Para Checkout We... 2023-05-11 12:50:00  \\\n",
       "\n",
       "                  Skills             Budget  Bids   \n",
       "0  Magento,PHP,WordPress  USD 1.000 - 3.000     1  \\\n",
       "\n",
       "                                             Summary   \n",
       "0  Procuro dev full stack para projeto de desenvo...  \\\n",
       "\n",
       "                                                Link          Category   \n",
       "0  https://www.workana.com/job/desenvolvimento-de...  TI e Programação  \\\n",
       "\n",
       "                   Subcategory  3d  ...  WebScraping  Wix  WooCommerce   \n",
       "0  Lojas Virtuais (e-commerce)   0  ...            0    0            0  \\\n",
       "\n",
       "   WordPress  YouTube  ['N/I']  eBooks  iOS  iPhone  vtiger  \n",
       "0          1        0        0       0    0       0       0  \n",
       "\n",
       "[1 rows x 134 columns]"
      ]
     },
     "execution_count": 25,
     "metadata": {},
     "output_type": "execute_result"
    }
   ],
   "source": [
    "df.head(1)"
   ]
  },
  {
   "attachments": {},
   "cell_type": "markdown",
   "metadata": {},
   "source": [
    "## Export data"
   ]
  },
  {
   "cell_type": "code",
   "execution_count": 26,
   "metadata": {},
   "outputs": [],
   "source": [
    "#create csv\n",
    "df.to_csv('../workana_scraping/data/data_t.csv', index=False)"
   ]
  }
 ],
 "metadata": {
  "kernelspec": {
   "display_name": ".venv",
   "language": "python",
   "name": "python3"
  },
  "language_info": {
   "codemirror_mode": {
    "name": "ipython",
    "version": 3
   },
   "file_extension": ".py",
   "mimetype": "text/x-python",
   "name": "python",
   "nbconvert_exporter": "python",
   "pygments_lexer": "ipython3",
   "version": "3.11.2"
  },
  "orig_nbformat": 4
 },
 "nbformat": 4,
 "nbformat_minor": 2
}
