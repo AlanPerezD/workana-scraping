{
 "cells": [
  {
   "attachments": {},
   "cell_type": "markdown",
   "metadata": {},
   "source": [
    "# Exploratory analysis and data processing"
   ]
  },
  {
   "cell_type": "code",
   "execution_count": 46,
   "metadata": {},
   "outputs": [],
   "source": [
    "# import libs\n",
    "import pandas as pd"
   ]
  },
  {
   "attachments": {},
   "cell_type": "markdown",
   "metadata": {},
   "source": [
    "## Getting data"
   ]
  },
  {
   "cell_type": "code",
   "execution_count": 47,
   "metadata": {},
   "outputs": [
    {
     "data": {
      "text/plain": [
       "(450, 7)"
      ]
     },
     "execution_count": 47,
     "metadata": {},
     "output_type": "execute_result"
    }
   ],
   "source": [
    "# read csv\n",
    "df_raw = pd.read_csv(\"../workana_scraping/data/data_raw.csv\")\n",
    "\n",
    "# check shape\n",
    "df_raw.shape"
   ]
  },
  {
   "cell_type": "code",
   "execution_count": 48,
   "metadata": {},
   "outputs": [
    {
     "data": {
      "text/plain": [
       "(450, 7)"
      ]
     },
     "execution_count": 48,
     "metadata": {},
     "output_type": "execute_result"
    }
   ],
   "source": [
    "# create a copy from original data\n",
    "df = df_raw.copy()\n",
    "\n",
    "# check shape\n",
    "df_raw.shape"
   ]
  },
  {
   "attachments": {},
   "cell_type": "markdown",
   "metadata": {},
   "source": [
    "## Knowing dataframe"
   ]
  },
  {
   "cell_type": "code",
   "execution_count": 49,
   "metadata": {},
   "outputs": [
    {
     "data": {
      "text/plain": [
       "(450, 7)"
      ]
     },
     "execution_count": 49,
     "metadata": {},
     "output_type": "execute_result"
    }
   ],
   "source": [
    "# check shape\n",
    "df.shape"
   ]
  },
  {
   "cell_type": "code",
   "execution_count": 50,
   "metadata": {},
   "outputs": [
    {
     "name": "stdout",
     "output_type": "stream",
     "text": [
      "<class 'pandas.core.frame.DataFrame'>\n",
      "RangeIndex: 450 entries, 0 to 449\n",
      "Data columns (total 7 columns):\n",
      " #   Column        Non-Null Count  Dtype \n",
      "---  ------        --------------  ----- \n",
      " 0   Job           450 non-null    object\n",
      " 1   Publish Date  450 non-null    object\n",
      " 2   Skills        450 non-null    object\n",
      " 3   Budget        450 non-null    object\n",
      " 4   Bids          450 non-null    object\n",
      " 5   Summary       450 non-null    object\n",
      " 6   Link          450 non-null    object\n",
      "dtypes: object(7)\n",
      "memory usage: 24.7+ KB\n"
     ]
    }
   ],
   "source": [
    "# check df info\n",
    "df.info()"
   ]
  },
  {
   "cell_type": "code",
   "execution_count": 51,
   "metadata": {},
   "outputs": [
    {
     "data": {
      "text/plain": [
       "Job             object\n",
       "Publish Date    object\n",
       "Skills          object\n",
       "Budget          object\n",
       "Bids            object\n",
       "Summary         object\n",
       "Link            object\n",
       "dtype: object"
      ]
     },
     "execution_count": 51,
     "metadata": {},
     "output_type": "execute_result"
    }
   ],
   "source": [
    "# check data types\n",
    "df.dtypes"
   ]
  },
  {
   "cell_type": "code",
   "execution_count": 52,
   "metadata": {},
   "outputs": [
    {
     "data": {
      "text/plain": [
       "Job             450\n",
       "Publish Date    450\n",
       "Skills          450\n",
       "Budget          450\n",
       "Bids            450\n",
       "Summary         450\n",
       "Link            450\n",
       "dtype: int64"
      ]
     },
     "execution_count": 52,
     "metadata": {},
     "output_type": "execute_result"
    }
   ],
   "source": [
    "# count not null\n",
    "df.count()"
   ]
  },
  {
   "cell_type": "code",
   "execution_count": 53,
   "metadata": {},
   "outputs": [
    {
     "name": "stdout",
     "output_type": "stream",
     "text": [
      "Valores nulos na coluna Job: 0\n",
      "Valores nulos na coluna Publish Date: 0\n",
      "Valores nulos na coluna Skills: 0\n",
      "Valores nulos na coluna Budget: 0\n",
      "Valores nulos na coluna Bids: 0\n",
      "Valores nulos na coluna Summary: 0\n",
      "Valores nulos na coluna Link: 0\n"
     ]
    }
   ],
   "source": [
    "# search for null\n",
    "for c in df.columns:\n",
    "    try:\n",
    "        num_nulls = df.shape[0] - df[c].count()\n",
    "        print(f\"Valores nulos na coluna {c}:\", num_nulls)\n",
    "    except:\n",
    "        print(f\"Erros encontrados na coluna {c}:\")"
   ]
  },
  {
   "cell_type": "code",
   "execution_count": 54,
   "metadata": {},
   "outputs": [],
   "source": [
    "# if error, drop line\n",
    "# df = df.drop(df[df['Bids'] == 'Erro no orçamento 10 da página5'].index)\n",
    "df = df.drop(df[df[\"Bids\"].str.contains(\"Erro no orçamento\")].index)"
   ]
  },
  {
   "cell_type": "code",
   "execution_count": 55,
   "metadata": {},
   "outputs": [
    {
     "name": "stdout",
     "output_type": "stream",
     "text": [
      "<class 'pandas.core.frame.DataFrame'>\n",
      "Index: 449 entries, 0 to 449\n",
      "Data columns (total 7 columns):\n",
      " #   Column        Non-Null Count  Dtype \n",
      "---  ------        --------------  ----- \n",
      " 0   Job           449 non-null    object\n",
      " 1   Publish Date  449 non-null    object\n",
      " 2   Skills        449 non-null    object\n",
      " 3   Budget        449 non-null    object\n",
      " 4   Bids          449 non-null    int64 \n",
      " 5   Summary       449 non-null    object\n",
      " 6   Link          449 non-null    object\n",
      "dtypes: int64(1), object(6)\n",
      "memory usage: 28.1+ KB\n",
      "None\n"
     ]
    }
   ],
   "source": [
    "# change Bids to int type\n",
    "df[\"Bids\"] = df[\"Bids\"].astype(int)\n",
    "\n",
    "print(df.info())"
   ]
  },
  {
   "cell_type": "code",
   "execution_count": 56,
   "metadata": {},
   "outputs": [
    {
     "data": {
      "text/plain": [
       "(449, 7)"
      ]
     },
     "execution_count": 56,
     "metadata": {},
     "output_type": "execute_result"
    }
   ],
   "source": [
    "df.shape"
   ]
  },
  {
   "cell_type": "markdown",
   "metadata": {},
   "source": [
    "## Change types"
   ]
  },
  {
   "attachments": {},
   "cell_type": "markdown",
   "metadata": {},
   "source": [
    "### Bids column"
   ]
  },
  {
   "cell_type": "code",
   "execution_count": 57,
   "metadata": {},
   "outputs": [],
   "source": [
    "# if error, drop line\n",
    "df = df.drop(df[df[\"Bids\"] == \"Erro no orçamento 10 da página5\"].index)"
   ]
  },
  {
   "cell_type": "code",
   "execution_count": 58,
   "metadata": {},
   "outputs": [],
   "source": [
    "# change Bids to int type\n",
    "df[\"Bids\"] = df[\"Bids\"].astype(int)"
   ]
  },
  {
   "attachments": {},
   "cell_type": "markdown",
   "metadata": {},
   "source": [
    "### Publish Date column"
   ]
  },
  {
   "cell_type": "code",
   "execution_count": 59,
   "metadata": {},
   "outputs": [],
   "source": [
    "# dict pt x en\n",
    "months = {\n",
    "    \"Janeiro\": \"January\",\n",
    "    \"Fevereiro\": \"February\",\n",
    "    \"Março\": \"March\",\n",
    "    \"Abril\": \"April\",\n",
    "    \"Maio\": \"May\",\n",
    "    \"Junho\": \"June\",\n",
    "    \"Julho\": \"July\",\n",
    "    \"Agosto\": \"August\",\n",
    "    \"Setembro\": \"September\",\n",
    "    \"Outubro\": \"October\",\n",
    "    \"Novembro\": \"November\",\n",
    "    \"Dezembro\": \"December\",\n",
    "}"
   ]
  },
  {
   "cell_type": "code",
   "execution_count": 60,
   "metadata": {},
   "outputs": [
    {
     "name": "stdout",
     "output_type": "stream",
     "text": [
      "<class 'pandas.core.frame.DataFrame'>\n",
      "Index: 449 entries, 0 to 449\n",
      "Data columns (total 7 columns):\n",
      " #   Column        Non-Null Count  Dtype         \n",
      "---  ------        --------------  -----         \n",
      " 0   Job           449 non-null    object        \n",
      " 1   Publish Date  449 non-null    datetime64[ns]\n",
      " 2   Skills        449 non-null    object        \n",
      " 3   Budget        449 non-null    object        \n",
      " 4   Bids          449 non-null    int64         \n",
      " 5   Summary       449 non-null    object        \n",
      " 6   Link          449 non-null    object        \n",
      "dtypes: datetime64[ns](1), int64(1), object(5)\n",
      "memory usage: 28.1+ KB\n",
      "None\n"
     ]
    }
   ],
   "source": [
    "# replaces month names in portuguese with their english equivalents\n",
    "for m_pt, m_en in months.items():\n",
    "    df[\"Publish Date\"] = df[\"Publish Date\"].str.replace(m_pt, m_en)\n",
    "    df[\"Publish Date\"] = df[\"Publish Date\"].str.replace(\" de \", \" \")\n",
    "\n",
    "# change type\n",
    "df[\"Publish Date\"] = pd.to_datetime(df[\"Publish Date\"], format=\"%d %B %Y %H:%M\")\n",
    "df[\"Publish Date\"]\n",
    "\n",
    "print(df.info())"
   ]
  },
  {
   "cell_type": "code",
   "execution_count": 61,
   "metadata": {},
   "outputs": [
    {
     "data": {
      "text/plain": [
       "(449, 7)"
      ]
     },
     "execution_count": 61,
     "metadata": {},
     "output_type": "execute_result"
    }
   ],
   "source": [
    "df.shape"
   ]
  },
  {
   "attachments": {},
   "cell_type": "markdown",
   "metadata": {},
   "source": [
    "## Create Category & Subcategory columns"
   ]
  },
  {
   "cell_type": "code",
   "execution_count": 62,
   "metadata": {},
   "outputs": [
    {
     "name": "stdout",
     "output_type": "stream",
     "text": [
      "A palavra \"Categoria\" aparece nas linhas: [0, 1, 7, 8, 9, 10, 11, 12, 15, 18, 19, 21, 23, 25, 26, 27, 28, 29, 31, 32, 33, 36, 37, 38, 39, 40, 41, 43, 45, 46, 48, 49, 50, 51, 53, 54, 55, 58, 59, 60, 61, 62, 63, 64, 65, 67, 68, 69, 70, 71, 72, 73, 74, 76, 77, 78, 81, 82, 85, 86, 87, 88, 89, 90, 91, 92, 93, 94, 95, 97, 98, 99, 100, 101, 102, 103, 105, 108, 109, 110, 111, 112, 113, 114, 115, 117, 118, 119, 121, 123, 124, 126, 127, 130, 131, 132, 133, 134, 135, 136, 137, 138, 142, 143, 144, 145, 146, 148, 150, 151, 153, 154, 156, 157, 158, 160, 161, 162, 163, 164, 165, 168, 169, 170, 171, 172, 173, 174, 176, 178, 179, 180, 181, 182, 183, 189, 190, 191, 192, 193, 194, 198, 199, 200, 201, 202, 206, 207, 208, 209, 210, 213, 214, 216, 217, 218, 219, 221, 222, 223, 225, 226, 227, 229, 230, 231, 232, 233, 234, 235, 237, 238, 240, 241, 243, 244, 245, 247, 248, 249, 252, 253, 255, 256, 258, 259, 260, 261, 262, 263, 264, 265, 266, 268, 270, 271, 274, 278, 279, 280, 281, 282, 283, 287, 288, 289, 290, 291, 292, 293, 295, 296, 297, 298, 299, 300, 302, 303, 304, 306, 307, 309, 311, 313, 315, 316, 317, 319, 320, 321, 323, 324, 325, 326, 329, 331, 332, 333, 334, 336, 338, 342, 343, 344, 347, 348, 349, 351, 352, 353, 354, 355, 356, 357, 358, 359, 360, 361, 363, 364, 365, 366, 367, 369, 370, 371, 372, 373, 375, 378, 379, 380, 381, 382, 383, 385, 386, 387, 388, 391, 392, 394, 396, 397, 398, 399, 401, 403, 405, 406, 407, 408, 409, 410, 412, 414, 415, 416, 417, 418, 421, 423, 424, 426, 428, 429, 431, 432, 433, 434, 435, 436, 437, 438, 440, 441, 442, 443, 444, 446, 447, 448]\n"
     ]
    }
   ],
   "source": [
    "# where exists 'Categoria'\n",
    "count_cat = df[df[\"Summary\"].str.contains(\"Categoria\")].index.tolist()\n",
    "print(f'A palavra \"Categoria\" aparece nas linhas: {count_cat}')"
   ]
  },
  {
   "cell_type": "code",
   "execution_count": 63,
   "metadata": {},
   "outputs": [
    {
     "name": "stdout",
     "output_type": "stream",
     "text": [
      "A palavra \"Categoria\" aparece nas linhas: [0, 1, 7, 8, 9, 10, 11, 12, 15, 18, 19, 21, 23, 25, 27, 28, 29, 31, 32, 33, 36, 37, 38, 39, 41, 43, 45, 46, 48, 49, 50, 51, 53, 55, 58, 59, 60, 61, 62, 63, 65, 67, 68, 69, 70, 71, 72, 73, 74, 76, 77, 78, 81, 82, 85, 86, 87, 89, 90, 91, 92, 93, 94, 95, 97, 99, 100, 102, 103, 105, 108, 109, 110, 111, 112, 113, 114, 115, 117, 118, 119, 123, 124, 126, 127, 130, 131, 132, 134, 135, 137, 142, 143, 144, 145, 146, 148, 150, 151, 153, 154, 156, 157, 158, 160, 161, 162, 163, 164, 165, 168, 169, 170, 171, 172, 173, 174, 176, 178, 179, 180, 182, 183, 189, 190, 191, 192, 193, 194, 198, 200, 201, 202, 206, 207, 209, 210, 213, 214, 216, 217, 218, 219, 222, 223, 225, 227, 229, 230, 231, 232, 233, 234, 237, 238, 240, 241, 243, 244, 245, 247, 248, 249, 252, 255, 256, 258, 259, 260, 261, 262, 263, 264, 265, 266, 268, 270, 271, 274, 278, 279, 280, 281, 282, 287, 288, 289, 290, 291, 292, 293, 295, 296, 297, 298, 299, 300, 302, 303, 304, 307, 309, 311, 313, 315, 316, 317, 319, 320, 321, 323, 324, 325, 326, 329, 331, 332, 333, 334, 336, 338, 342, 343, 344, 347, 348, 349, 351, 352, 353, 354, 355, 356, 357, 358, 359, 361, 363, 364, 365, 366, 367, 369, 370, 372, 373, 375, 378, 379, 380, 381, 382, 383, 385, 386, 387, 388, 391, 392, 394, 396, 398, 399, 401, 405, 406, 407, 408, 409, 410, 412, 414, 416, 417, 418, 421, 423, 426, 428, 429, 431, 432, 434, 435, 436, 437, 438, 440, 441, 442, 443, 444, 446, 447, 448]\n"
     ]
    }
   ],
   "source": [
    "# where exists 'Subategoria'\n",
    "count_subcat = df[df[\"Summary\"].str.contains(\"Subcategoria\")].index.tolist()\n",
    "print(f'A palavra \"Categoria\" aparece nas linhas: {count_subcat}')"
   ]
  },
  {
   "cell_type": "code",
   "execution_count": 64,
   "metadata": {},
   "outputs": [],
   "source": [
    "# extract data\n",
    "df[\"Category\"] = df[\"Summary\"].str.extract(\"Categoria:\\s*(.*)\\n\")\n",
    "df[\"Subcategory\"] = df[\"Summary\"].str.extract(\"Subcategoria:\\s*(.*)\\n\")\n",
    "\n",
    "df[[\"Category\", \"Subcategory\"]] = df[[\"Category\", \"Subcategory\"]].fillna(\"N/I\")"
   ]
  },
  {
   "cell_type": "code",
   "execution_count": 65,
   "metadata": {},
   "outputs": [],
   "source": [
    "# remove after line break\n",
    "df[\"Summary\"] = df[\"Summary\"].str.split(\"\\n\").str[0]"
   ]
  },
  {
   "cell_type": "code",
   "execution_count": 66,
   "metadata": {},
   "outputs": [
    {
     "data": {
      "text/plain": [
       "(449, 9)"
      ]
     },
     "execution_count": 66,
     "metadata": {},
     "output_type": "execute_result"
    }
   ],
   "source": [
    "df.shape"
   ]
  },
  {
   "cell_type": "code",
   "execution_count": 67,
   "metadata": {},
   "outputs": [
    {
     "name": "stdout",
     "output_type": "stream",
     "text": [
      "<class 'pandas.core.frame.DataFrame'>\n",
      "Index: 449 entries, 0 to 449\n",
      "Data columns (total 9 columns):\n",
      " #   Column        Non-Null Count  Dtype         \n",
      "---  ------        --------------  -----         \n",
      " 0   Job           449 non-null    object        \n",
      " 1   Publish Date  449 non-null    datetime64[ns]\n",
      " 2   Skills        449 non-null    object        \n",
      " 3   Budget        449 non-null    object        \n",
      " 4   Bids          449 non-null    int64         \n",
      " 5   Summary       449 non-null    object        \n",
      " 6   Link          449 non-null    object        \n",
      " 7   Category      449 non-null    object        \n",
      " 8   Subcategory   449 non-null    object        \n",
      "dtypes: datetime64[ns](1), int64(1), object(7)\n",
      "memory usage: 35.1+ KB\n"
     ]
    }
   ],
   "source": [
    "df.info()"
   ]
  },
  {
   "attachments": {},
   "cell_type": "markdown",
   "metadata": {},
   "source": [
    "## Create dummy columns from Skills"
   ]
  },
  {
   "cell_type": "code",
   "execution_count": 68,
   "metadata": {},
   "outputs": [],
   "source": [
    "# Replace substring - exclude spaces -ok\n",
    "df[\"Skills\"] = df[\"Skills\"].replace(\" \", \"\", regex=True)\n",
    "# df.head(1)"
   ]
  },
  {
   "cell_type": "code",
   "execution_count": 69,
   "metadata": {},
   "outputs": [],
   "source": [
    "# create dummy columns\n",
    "df = pd.concat([df, df[\"Skills\"].str.get_dummies(sep=\",\")], axis=1)\n",
    "if \"+\" in df.columns:\n",
    "    df.drop(\"+\", axis=1, inplace=True)\n",
    "# df.shape"
   ]
  },
  {
   "cell_type": "code",
   "execution_count": 70,
   "metadata": {},
   "outputs": [
    {
     "data": {
      "text/plain": [
       "(449, 127)"
      ]
     },
     "execution_count": 70,
     "metadata": {},
     "output_type": "execute_result"
    }
   ],
   "source": [
    "df.shape"
   ]
  },
  {
   "cell_type": "code",
   "execution_count": 71,
   "metadata": {},
   "outputs": [
    {
     "data": {
      "text/html": [
       "<div>\n",
       "<style scoped>\n",
       "    .dataframe tbody tr th:only-of-type {\n",
       "        vertical-align: middle;\n",
       "    }\n",
       "\n",
       "    .dataframe tbody tr th {\n",
       "        vertical-align: top;\n",
       "    }\n",
       "\n",
       "    .dataframe thead th {\n",
       "        text-align: right;\n",
       "    }\n",
       "</style>\n",
       "<table border=\"1\" class=\"dataframe\">\n",
       "  <thead>\n",
       "    <tr style=\"text-align: right;\">\n",
       "      <th></th>\n",
       "      <th>Job</th>\n",
       "      <th>Publish Date</th>\n",
       "      <th>Skills</th>\n",
       "      <th>Budget</th>\n",
       "      <th>Bids</th>\n",
       "      <th>Summary</th>\n",
       "      <th>Link</th>\n",
       "      <th>Category</th>\n",
       "      <th>Subcategory</th>\n",
       "      <th>3DRendering</th>\n",
       "      <th>...</th>\n",
       "      <th>Vendas</th>\n",
       "      <th>WebDesign</th>\n",
       "      <th>WebScraping</th>\n",
       "      <th>Wix</th>\n",
       "      <th>WordPress</th>\n",
       "      <th>YouTube</th>\n",
       "      <th>['N/I']</th>\n",
       "      <th>iOS</th>\n",
       "      <th>iPhone</th>\n",
       "      <th>vtiger</th>\n",
       "    </tr>\n",
       "  </thead>\n",
       "  <tbody>\n",
       "    <tr>\n",
       "      <th>0</th>\n",
       "      <td>Design para Marketing em mídias sociais</td>\n",
       "      <td>2023-05-11 14:53:00</td>\n",
       "      <td>DesignGráfico,AdobeIllustrator,AdobePhotoshop</td>\n",
       "      <td>Mais de USD 45 / hora</td>\n",
       "      <td>2</td>\n",
       "      <td>Desenvolver peças de campanhas para Instagram,...</td>\n",
       "      <td>https://www.workana.com/job/design-para-market...</td>\n",
       "      <td>Design e Multimedia</td>\n",
       "      <td>Imagens para redes sociais</td>\n",
       "      <td>0</td>\n",
       "      <td>...</td>\n",
       "      <td>0</td>\n",
       "      <td>0</td>\n",
       "      <td>0</td>\n",
       "      <td>0</td>\n",
       "      <td>0</td>\n",
       "      <td>0</td>\n",
       "      <td>0</td>\n",
       "      <td>0</td>\n",
       "      <td>0</td>\n",
       "      <td>0</td>\n",
       "    </tr>\n",
       "  </tbody>\n",
       "</table>\n",
       "<p>1 rows × 127 columns</p>\n",
       "</div>"
      ],
      "text/plain": [
       "                                       Job        Publish Date   \n",
       "0  Design para Marketing em mídias sociais 2023-05-11 14:53:00  \\\n",
       "\n",
       "                                          Skills                 Budget  Bids   \n",
       "0  DesignGráfico,AdobeIllustrator,AdobePhotoshop  Mais de USD 45 / hora     2  \\\n",
       "\n",
       "                                             Summary   \n",
       "0  Desenvolver peças de campanhas para Instagram,...  \\\n",
       "\n",
       "                                                Link             Category   \n",
       "0  https://www.workana.com/job/design-para-market...  Design e Multimedia  \\\n",
       "\n",
       "                  Subcategory  3DRendering  ...  Vendas  WebDesign   \n",
       "0  Imagens para redes sociais            0  ...       0          0  \\\n",
       "\n",
       "   WebScraping  Wix  WordPress  YouTube  ['N/I']  iOS  iPhone  vtiger  \n",
       "0            0    0          0        0        0    0       0       0  \n",
       "\n",
       "[1 rows x 127 columns]"
      ]
     },
     "execution_count": 71,
     "metadata": {},
     "output_type": "execute_result"
    }
   ],
   "source": [
    "df.head(1)"
   ]
  },
  {
   "attachments": {},
   "cell_type": "markdown",
   "metadata": {},
   "source": [
    "## Export data"
   ]
  },
  {
   "cell_type": "code",
   "execution_count": 72,
   "metadata": {},
   "outputs": [],
   "source": [
    "# create csv\n",
    "df.to_csv(\"../workana_scraping/data/data_t.csv\", index=False)"
   ]
  }
 ],
 "metadata": {
  "kernelspec": {
   "display_name": ".venv",
   "language": "python",
   "name": "python3"
  },
  "language_info": {
   "codemirror_mode": {
    "name": "ipython",
    "version": 3
   },
   "file_extension": ".py",
   "mimetype": "text/x-python",
   "name": "python",
   "nbconvert_exporter": "python",
   "pygments_lexer": "ipython3",
   "version": "3.11.2"
  },
  "orig_nbformat": 4
 },
 "nbformat": 4,
 "nbformat_minor": 2
}
