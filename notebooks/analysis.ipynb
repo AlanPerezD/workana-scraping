{
 "cells": [
  {
   "cell_type": "code",
   "execution_count": 1,
   "metadata": {},
   "outputs": [],
   "source": [
    "import pandas as pd"
   ]
  },
  {
   "attachments": {},
   "cell_type": "markdown",
   "metadata": {},
   "source": [
    "## Import data"
   ]
  },
  {
   "cell_type": "code",
   "execution_count": 2,
   "metadata": {},
   "outputs": [],
   "source": [
    "df_ori = pd.read_csv(\"../workana_scraping/data/data_t.csv\")\n",
    "df = df_ori.copy()"
   ]
  },
  {
   "cell_type": "code",
   "execution_count": 3,
   "metadata": {},
   "outputs": [
    {
     "data": {
      "text/plain": [
       "(449, 127)"
      ]
     },
     "execution_count": 3,
     "metadata": {},
     "output_type": "execute_result"
    }
   ],
   "source": [
    "df.shape"
   ]
  },
  {
   "cell_type": "code",
   "execution_count": 4,
   "metadata": {},
   "outputs": [
    {
     "data": {
      "text/html": [
       "<div>\n",
       "<style scoped>\n",
       "    .dataframe tbody tr th:only-of-type {\n",
       "        vertical-align: middle;\n",
       "    }\n",
       "\n",
       "    .dataframe tbody tr th {\n",
       "        vertical-align: top;\n",
       "    }\n",
       "\n",
       "    .dataframe thead th {\n",
       "        text-align: right;\n",
       "    }\n",
       "</style>\n",
       "<table border=\"1\" class=\"dataframe\">\n",
       "  <thead>\n",
       "    <tr style=\"text-align: right;\">\n",
       "      <th></th>\n",
       "      <th>Job</th>\n",
       "      <th>Publish Date</th>\n",
       "      <th>Skills</th>\n",
       "      <th>Budget</th>\n",
       "      <th>Bids</th>\n",
       "      <th>Summary</th>\n",
       "      <th>Link</th>\n",
       "      <th>Category</th>\n",
       "      <th>Subcategory</th>\n",
       "      <th>3DRendering</th>\n",
       "      <th>...</th>\n",
       "      <th>Vendas</th>\n",
       "      <th>WebDesign</th>\n",
       "      <th>WebScraping</th>\n",
       "      <th>Wix</th>\n",
       "      <th>WordPress</th>\n",
       "      <th>YouTube</th>\n",
       "      <th>['N/I']</th>\n",
       "      <th>iOS</th>\n",
       "      <th>iPhone</th>\n",
       "      <th>vtiger</th>\n",
       "    </tr>\n",
       "  </thead>\n",
       "  <tbody>\n",
       "    <tr>\n",
       "      <th>0</th>\n",
       "      <td>Design para Marketing em mídias sociais</td>\n",
       "      <td>2023-05-11 14:53:00</td>\n",
       "      <td>DesignGráfico,AdobeIllustrator,AdobePhotoshop</td>\n",
       "      <td>Mais de USD 45 / hora</td>\n",
       "      <td>2</td>\n",
       "      <td>Desenvolver peças de campanhas para Instagram,...</td>\n",
       "      <td>https://www.workana.com/job/design-para-market...</td>\n",
       "      <td>Design e Multimedia</td>\n",
       "      <td>Imagens para redes sociais</td>\n",
       "      <td>0</td>\n",
       "      <td>...</td>\n",
       "      <td>0</td>\n",
       "      <td>0</td>\n",
       "      <td>0</td>\n",
       "      <td>0</td>\n",
       "      <td>0</td>\n",
       "      <td>0</td>\n",
       "      <td>0</td>\n",
       "      <td>0</td>\n",
       "      <td>0</td>\n",
       "      <td>0</td>\n",
       "    </tr>\n",
       "    <tr>\n",
       "      <th>1</th>\n",
       "      <td>Desenvolvimento de Ferramenta Para Checkout We...</td>\n",
       "      <td>2023-05-11 12:50:00</td>\n",
       "      <td>Magento,PHP,WordPress</td>\n",
       "      <td>USD 1.000 - 3.000</td>\n",
       "      <td>4</td>\n",
       "      <td>Procuro dev full stack para projeto de desenvo...</td>\n",
       "      <td>https://www.workana.com/job/desenvolvimento-de...</td>\n",
       "      <td>TI e Programação</td>\n",
       "      <td>Lojas Virtuais (e-commerce)</td>\n",
       "      <td>0</td>\n",
       "      <td>...</td>\n",
       "      <td>0</td>\n",
       "      <td>0</td>\n",
       "      <td>0</td>\n",
       "      <td>0</td>\n",
       "      <td>1</td>\n",
       "      <td>0</td>\n",
       "      <td>0</td>\n",
       "      <td>0</td>\n",
       "      <td>0</td>\n",
       "      <td>0</td>\n",
       "    </tr>\n",
       "    <tr>\n",
       "      <th>2</th>\n",
       "      <td>Procura-se gestor de tráfego para parceria rec...</td>\n",
       "      <td>2023-05-09 21:02:00</td>\n",
       "      <td>Facebook,GoogleAdWords,MarketingOnline</td>\n",
       "      <td>USD 15 - 45 / hora</td>\n",
       "      <td>41</td>\n",
       "      <td>A agência precisa de um gestor de tráfego que ...</td>\n",
       "      <td>https://www.workana.com/job/procura-se-gestor-...</td>\n",
       "      <td>N/I</td>\n",
       "      <td>N/I</td>\n",
       "      <td>0</td>\n",
       "      <td>...</td>\n",
       "      <td>0</td>\n",
       "      <td>0</td>\n",
       "      <td>0</td>\n",
       "      <td>0</td>\n",
       "      <td>0</td>\n",
       "      <td>0</td>\n",
       "      <td>0</td>\n",
       "      <td>0</td>\n",
       "      <td>0</td>\n",
       "      <td>0</td>\n",
       "    </tr>\n",
       "  </tbody>\n",
       "</table>\n",
       "<p>3 rows × 127 columns</p>\n",
       "</div>"
      ],
      "text/plain": [
       "                                                 Job         Publish Date   \n",
       "0            Design para Marketing em mídias sociais  2023-05-11 14:53:00  \\\n",
       "1  Desenvolvimento de Ferramenta Para Checkout We...  2023-05-11 12:50:00   \n",
       "2  Procura-se gestor de tráfego para parceria rec...  2023-05-09 21:02:00   \n",
       "\n",
       "                                          Skills                 Budget  Bids   \n",
       "0  DesignGráfico,AdobeIllustrator,AdobePhotoshop  Mais de USD 45 / hora     2  \\\n",
       "1                          Magento,PHP,WordPress      USD 1.000 - 3.000     4   \n",
       "2         Facebook,GoogleAdWords,MarketingOnline     USD 15 - 45 / hora    41   \n",
       "\n",
       "                                             Summary   \n",
       "0  Desenvolver peças de campanhas para Instagram,...  \\\n",
       "1  Procuro dev full stack para projeto de desenvo...   \n",
       "2  A agência precisa de um gestor de tráfego que ...   \n",
       "\n",
       "                                                Link             Category   \n",
       "0  https://www.workana.com/job/design-para-market...  Design e Multimedia  \\\n",
       "1  https://www.workana.com/job/desenvolvimento-de...     TI e Programação   \n",
       "2  https://www.workana.com/job/procura-se-gestor-...                  N/I   \n",
       "\n",
       "                   Subcategory  3DRendering  ...  Vendas  WebDesign   \n",
       "0   Imagens para redes sociais            0  ...       0          0  \\\n",
       "1  Lojas Virtuais (e-commerce)            0  ...       0          0   \n",
       "2                          N/I            0  ...       0          0   \n",
       "\n",
       "   WebScraping  Wix  WordPress  YouTube  ['N/I']  iOS  iPhone  vtiger  \n",
       "0            0    0          0        0        0    0       0       0  \n",
       "1            0    0          1        0        0    0       0       0  \n",
       "2            0    0          0        0        0    0       0       0  \n",
       "\n",
       "[3 rows x 127 columns]"
      ]
     },
     "execution_count": 4,
     "metadata": {},
     "output_type": "execute_result"
    }
   ],
   "source": [
    "df.head(3)"
   ]
  },
  {
   "attachments": {},
   "cell_type": "markdown",
   "metadata": {},
   "source": [
    "## Sort by Date"
   ]
  },
  {
   "cell_type": "code",
   "execution_count": 5,
   "metadata": {},
   "outputs": [],
   "source": [
    "# fixing type\n",
    "df[\"Publish Date\"] = pd.to_datetime(df[\"Publish Date\"])\n",
    "\n",
    "\n",
    "# acertando o fuso\n",
    "df[\"Publish Date\"] = df[\"Publish Date\"] - pd.Timedelta(hours=3)"
   ]
  },
  {
   "cell_type": "code",
   "execution_count": 6,
   "metadata": {},
   "outputs": [
    {
     "data": {
      "text/plain": [
       "dtype('<M8[ns]')"
      ]
     },
     "execution_count": 6,
     "metadata": {},
     "output_type": "execute_result"
    }
   ],
   "source": [
    "df[\"Publish Date\"].dtype"
   ]
  },
  {
   "cell_type": "code",
   "execution_count": 7,
   "metadata": {},
   "outputs": [
    {
     "data": {
      "text/html": [
       "<div>\n",
       "<style scoped>\n",
       "    .dataframe tbody tr th:only-of-type {\n",
       "        vertical-align: middle;\n",
       "    }\n",
       "\n",
       "    .dataframe tbody tr th {\n",
       "        vertical-align: top;\n",
       "    }\n",
       "\n",
       "    .dataframe thead th {\n",
       "        text-align: right;\n",
       "    }\n",
       "</style>\n",
       "<table border=\"1\" class=\"dataframe\">\n",
       "  <thead>\n",
       "    <tr style=\"text-align: right;\">\n",
       "      <th></th>\n",
       "      <th>Job</th>\n",
       "      <th>Publish Date</th>\n",
       "      <th>Skills</th>\n",
       "      <th>Budget</th>\n",
       "      <th>Bids</th>\n",
       "      <th>Summary</th>\n",
       "      <th>Link</th>\n",
       "      <th>Category</th>\n",
       "      <th>Subcategory</th>\n",
       "      <th>3DRendering</th>\n",
       "      <th>...</th>\n",
       "      <th>Vendas</th>\n",
       "      <th>WebDesign</th>\n",
       "      <th>WebScraping</th>\n",
       "      <th>Wix</th>\n",
       "      <th>WordPress</th>\n",
       "      <th>YouTube</th>\n",
       "      <th>['N/I']</th>\n",
       "      <th>iOS</th>\n",
       "      <th>iPhone</th>\n",
       "      <th>vtiger</th>\n",
       "    </tr>\n",
       "  </thead>\n",
       "  <tbody>\n",
       "    <tr>\n",
       "      <th>3</th>\n",
       "      <td>Montar 500 Imagens De Capa Para Anuncios De Pr...</td>\n",
       "      <td>2023-05-11 12:46:00</td>\n",
       "      <td>AdobePhotoshop</td>\n",
       "      <td>USD 50 - 100</td>\n",
       "      <td>0</td>\n",
       "      <td>O trabalho consiste em montar 500 imagens de c...</td>\n",
       "      <td>https://www.workana.com/job/montar-500-imagens...</td>\n",
       "      <td>N/I</td>\n",
       "      <td>N/I</td>\n",
       "      <td>0</td>\n",
       "      <td>...</td>\n",
       "      <td>0</td>\n",
       "      <td>0</td>\n",
       "      <td>0</td>\n",
       "      <td>0</td>\n",
       "      <td>0</td>\n",
       "      <td>0</td>\n",
       "      <td>0</td>\n",
       "      <td>0</td>\n",
       "      <td>0</td>\n",
       "      <td>0</td>\n",
       "    </tr>\n",
       "  </tbody>\n",
       "</table>\n",
       "<p>1 rows × 127 columns</p>\n",
       "</div>"
      ],
      "text/plain": [
       "                                                 Job        Publish Date   \n",
       "3  Montar 500 Imagens De Capa Para Anuncios De Pr... 2023-05-11 12:46:00  \\\n",
       "\n",
       "           Skills        Budget  Bids   \n",
       "3  AdobePhotoshop  USD 50 - 100     0  \\\n",
       "\n",
       "                                             Summary   \n",
       "3  O trabalho consiste em montar 500 imagens de c...  \\\n",
       "\n",
       "                                                Link Category Subcategory   \n",
       "3  https://www.workana.com/job/montar-500-imagens...      N/I         N/I  \\\n",
       "\n",
       "   3DRendering  ...  Vendas  WebDesign  WebScraping  Wix  WordPress  YouTube   \n",
       "3            0  ...       0          0            0    0          0        0  \\\n",
       "\n",
       "   ['N/I']  iOS  iPhone  vtiger  \n",
       "3        0    0       0       0  \n",
       "\n",
       "[1 rows x 127 columns]"
      ]
     },
     "execution_count": 7,
     "metadata": {},
     "output_type": "execute_result"
    }
   ],
   "source": [
    "df = df.sort_values(by=\"Publish Date\", ascending=False)\n",
    "df.head(1)"
   ]
  },
  {
   "cell_type": "code",
   "execution_count": 8,
   "metadata": {},
   "outputs": [
    {
     "data": {
      "text/plain": [
       "(449, 127)"
      ]
     },
     "execution_count": 8,
     "metadata": {},
     "output_type": "execute_result"
    }
   ],
   "source": [
    "df.shape"
   ]
  },
  {
   "attachments": {},
   "cell_type": "markdown",
   "metadata": {},
   "source": [
    "## Filter data"
   ]
  },
  {
   "attachments": {},
   "cell_type": "markdown",
   "metadata": {},
   "source": [
    "### by Category"
   ]
  },
  {
   "cell_type": "code",
   "execution_count": 9,
   "metadata": {},
   "outputs": [
    {
     "data": {
      "text/plain": [
       "Category\n",
       "Design e Multimedia         140\n",
       "N/I                         133\n",
       "TI e Programação             97\n",
       "Marketing e Vendas           40\n",
       "Tradução e conteúdos         19\n",
       "Engenharia e Manufatura      11\n",
       "Finanças e Administração      5\n",
       "Suporte Administrativo        4\n",
       "Name: count, dtype: int64"
      ]
     },
     "execution_count": 9,
     "metadata": {},
     "output_type": "execute_result"
    }
   ],
   "source": [
    "df[\"Category\"].value_counts()"
   ]
  },
  {
   "cell_type": "code",
   "execution_count": null,
   "metadata": {},
   "outputs": [],
   "source": [
    "# create df by Category\n",
    "categories = df[\"Category\"].unique()\n",
    "\n",
    "df_category = {}\n",
    "\n",
    "for category in categories:\n",
    "    df_category[category] = df[df[\"Category\"] == category]\n",
    "    print(f\"{category}:\", df_category[category].shape[0])"
   ]
  },
  {
   "cell_type": "code",
   "execution_count": null,
   "metadata": {},
   "outputs": [],
   "source": [
    "df.shape"
   ]
  },
  {
   "attachments": {},
   "cell_type": "markdown",
   "metadata": {},
   "source": [
    "### by SubCategory"
   ]
  },
  {
   "cell_type": "code",
   "execution_count": null,
   "metadata": {},
   "outputs": [],
   "source": [
    "df[\"Subcategory\"].value_counts()"
   ]
  },
  {
   "cell_type": "code",
   "execution_count": null,
   "metadata": {},
   "outputs": [],
   "source": [
    "# create df by Category\n",
    "subcategory = df[\"Subcategory\"].unique()\n",
    "\n",
    "df_sub = {}\n",
    "\n",
    "for sub in subcategory:\n",
    "    df_sub[sub] = df[df[\"Subcategory\"] == sub]\n",
    "    print(f\"{sub}:\", df_sub[sub].shape[0])"
   ]
  },
  {
   "cell_type": "code",
   "execution_count": null,
   "metadata": {},
   "outputs": [],
   "source": [
    "df.shape"
   ]
  },
  {
   "attachments": {},
   "cell_type": "markdown",
   "metadata": {},
   "source": [
    "### by Bids"
   ]
  },
  {
   "attachments": {},
   "cell_type": "markdown",
   "metadata": {},
   "source": [
    "by Bis < 5"
   ]
  },
  {
   "cell_type": "code",
   "execution_count": null,
   "metadata": {},
   "outputs": [],
   "source": [
    "df_bid5 = df.loc[df[\"Bids\"] < 5]\n",
    "df_bid5.shape"
   ]
  },
  {
   "attachments": {},
   "cell_type": "markdown",
   "metadata": {},
   "source": [
    "by Bis < 10"
   ]
  },
  {
   "cell_type": "code",
   "execution_count": null,
   "metadata": {},
   "outputs": [],
   "source": [
    "df_bid10 = df.loc[df[\"Bids\"] < 10]\n",
    "df_bid10.shape"
   ]
  },
  {
   "attachments": {},
   "cell_type": "markdown",
   "metadata": {},
   "source": [
    "### by Time"
   ]
  },
  {
   "attachments": {},
   "cell_type": "markdown",
   "metadata": {},
   "source": [
    "Ultimos 5 minutos"
   ]
  },
  {
   "cell_type": "code",
   "execution_count": null,
   "metadata": {},
   "outputs": [],
   "source": [
    "# Subtraindo 5 minutos da data atual\n",
    "cinco_min_antes = pd.Timestamp.now() - pd.Timedelta(minutes=5)\n",
    "\n",
    "# Filtrando as linhas adicionadas nos últimos 5 minutos\n",
    "df_5min = df[df[\"Publish Date\"] >= cinco_min_antes]"
   ]
  },
  {
   "cell_type": "code",
   "execution_count": null,
   "metadata": {},
   "outputs": [],
   "source": [
    "df_5min.shape"
   ]
  },
  {
   "attachments": {},
   "cell_type": "markdown",
   "metadata": {},
   "source": [
    "by Last hour"
   ]
  },
  {
   "cell_type": "code",
   "execution_count": null,
   "metadata": {},
   "outputs": [],
   "source": [
    "# Subtraindo 1h da data atual\n",
    "last_hour = pd.Timestamp.now() - pd.Timedelta(hours=1)\n",
    "\n",
    "# Filtrando as linhas adicionadas nos últimos 5 minutos\n",
    "df_lastHour = df[df[\"Publish Date\"] >= last_hour]"
   ]
  },
  {
   "cell_type": "code",
   "execution_count": null,
   "metadata": {},
   "outputs": [],
   "source": [
    "df_lastHour.shape"
   ]
  },
  {
   "cell_type": "code",
   "execution_count": null,
   "metadata": {},
   "outputs": [],
   "source": [
    "df_lastHour"
   ]
  },
  {
   "attachments": {},
   "cell_type": "markdown",
   "metadata": {},
   "source": [
    "## by Skills"
   ]
  },
  {
   "cell_type": "code",
   "execution_count": null,
   "metadata": {},
   "outputs": [],
   "source": [
    "# all skills\n",
    "print(df.columns.to_list()[9:])"
   ]
  },
  {
   "cell_type": "code",
   "execution_count": null,
   "metadata": {},
   "outputs": [],
   "source": [
    "# contando valores positivos em cada coluna dummy\n",
    "for col in df.columns[9:]:\n",
    "    count = df[col].sum()\n",
    "    print(f\"Coluna {col} tem {count} valores positivos\")"
   ]
  },
  {
   "cell_type": "code",
   "execution_count": null,
   "metadata": {},
   "outputs": [],
   "source": [
    "df[df[\"iOS\"] == 1]"
   ]
  },
  {
   "cell_type": "code",
   "execution_count": null,
   "metadata": {},
   "outputs": [],
   "source": []
  },
  {
   "cell_type": "code",
   "execution_count": null,
   "metadata": {},
   "outputs": [],
   "source": []
  },
  {
   "cell_type": "code",
   "execution_count": null,
   "metadata": {},
   "outputs": [],
   "source": [
    "df.head(5)"
   ]
  },
  {
   "cell_type": "code",
   "execution_count": null,
   "metadata": {},
   "outputs": [],
   "source": [
    "df"
   ]
  }
 ],
 "metadata": {
  "kernelspec": {
   "display_name": ".venv",
   "language": "python",
   "name": "python3"
  },
  "language_info": {
   "codemirror_mode": {
    "name": "ipython",
    "version": 3
   },
   "file_extension": ".py",
   "mimetype": "text/x-python",
   "name": "python",
   "nbconvert_exporter": "python",
   "pygments_lexer": "ipython3",
   "version": "3.11.2"
  },
  "orig_nbformat": 4
 },
 "nbformat": 4,
 "nbformat_minor": 2
}
