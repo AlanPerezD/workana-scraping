{
 "cells": [
  {
   "attachments": {},
   "cell_type": "markdown",
   "metadata": {},
   "source": [
    "# Workana Scrapp"
   ]
  },
  {
   "attachments": {},
   "cell_type": "markdown",
   "metadata": {},
   "source": [
    "## Scrapping one Job with Selenium "
   ]
  },
  {
   "cell_type": "code",
   "execution_count": 1,
   "metadata": {},
   "outputs": [],
   "source": [
    "# Import Lib\n",
    "import pandas as pd\n",
    "\n",
    "from selenium import webdriver\n",
    "from selenium.webdriver.chrome.service import Service as ChromeService\n",
    "from webdriver_manager.chrome import ChromeDriverManager\n",
    "from selenium.webdriver.common.by import By\n",
    "from selenium.common.exceptions import NoSuchElementException"
   ]
  },
  {
   "cell_type": "code",
   "execution_count": 2,
   "metadata": {},
   "outputs": [],
   "source": [
    "# init session\n",
    "driver = webdriver.Chrome(service=ChromeService(ChromeDriverManager().install()))\n",
    "\n",
    "# maximizar a janela do navegador\n",
    "driver.maximize_window()"
   ]
  },
  {
   "cell_type": "code",
   "execution_count": 3,
   "metadata": {},
   "outputs": [],
   "source": [
    "# go to workana\n",
    "driver.get(f'https://www.workana.com/jobs?language=pt&page={1}')"
   ]
  },
  {
   "cell_type": "code",
   "execution_count": 4,
   "metadata": {},
   "outputs": [
    {
     "name": "stdout",
     "output_type": "stream",
     "text": [
      "Tutilo: Desenvolvimento de Ferramenta Para Checkout Web com Integrações com Erp\n"
     ]
    }
   ],
   "source": [
    "# title\n",
    "job_title = driver.find_element(By.XPATH, f'//*[@id=\"projects\"]/div[{2}]/div[1]/h2/a/span')\n",
    "job_title = job_title.get_attribute('title')\n",
    "print('Tutilo:',job_title)"
   ]
  },
  {
   "cell_type": "code",
   "execution_count": 5,
   "metadata": {},
   "outputs": [
    {
     "name": "stdout",
     "output_type": "stream",
     "text": [
      "Publicação: 11 de Maio de 2023 12:50\n"
     ]
    }
   ],
   "source": [
    "# date\n",
    "job_date = driver.find_element(By.XPATH, f'//*[@id=\"projects\"]/div[{2}]/div[1]/h5')\n",
    "job_date = job_date.get_attribute('title')\n",
    "print('Publicação:',job_date)"
   ]
  },
  {
   "cell_type": "code",
   "execution_count": 6,
   "metadata": {},
   "outputs": [
    {
     "name": "stdout",
     "output_type": "stream",
     "text": [
      "https://www.workana.com/job/desenvolvimento-de-ferramenta-para-checkout-web-com-integracoes-com-erp?ref=projects_1\n"
     ]
    }
   ],
   "source": [
    "# job_link\n",
    "job_link = driver.find_element(By.XPATH, f'//*[@id=\"projects\"]/div[{2}]/div[1]/h2/a')\n",
    "job_link = job_link.get_attribute('href')\n",
    "print(job_link)"
   ]
  },
  {
   "cell_type": "code",
   "execution_count": 7,
   "metadata": {},
   "outputs": [
    {
     "name": "stdout",
     "output_type": "stream",
     "text": [
      "Propostas: 1\n"
     ]
    }
   ],
   "source": [
    "# bids\n",
    "job_bids = driver.find_element(By.XPATH, f'//*[@id=\"projects\"]/div[{2}]/div[2]/div[1]/span[2]')\n",
    "job_bids = job_bids.text.split(' ')[1]\n",
    "print('Propostas:',job_bids)"
   ]
  },
  {
   "cell_type": "code",
   "execution_count": 8,
   "metadata": {},
   "outputs": [
    {
     "name": "stdout",
     "output_type": "stream",
     "text": [
      "Orçamento: USD 1.000 - 3.000\n"
     ]
    }
   ],
   "source": [
    "# budget\n",
    "job_budget = driver.find_element(By.XPATH, f'//*[@id=\"projects\"]/div[{2}]/div[3]/h4/span')\n",
    "job_budget = job_budget.text\n",
    "print('Orçamento:',job_budget)\n"
   ]
  },
  {
   "cell_type": "code",
   "execution_count": 9,
   "metadata": {},
   "outputs": [
    {
     "name": "stdout",
     "output_type": "stream",
     "text": [
      "Procuro dev full stack para projeto de desenvolvimento de ferramenta checkout web (no site do cliente) com integração api em erp.\n",
      "\n",
      "Categoria: TI e Programação\n",
      "Subcategoria: Lojas Virtuais (e-commerce)\n",
      "Qual é o alcance do projeto?: Alteração média\n",
      "Isso é um projeto ou uma posição de trabalho?: Um projeto\n",
      "... Ver mais detalhes\n"
     ]
    }
   ],
   "source": [
    "# job description\n",
    "job_desc = driver.find_element(By.XPATH, f'//*[@id=\"projects\"]/div[{2}]/div[2]/div[2]/div')\n",
    "job_desc = job_desc.text \n",
    "print(job_desc)"
   ]
  },
  {
   "cell_type": "code",
   "execution_count": 10,
   "metadata": {},
   "outputs": [
    {
     "name": "stdout",
     "output_type": "stream",
     "text": [
      "Magento, PHP, WordPress\n"
     ]
    }
   ],
   "source": [
    "# get job skills \n",
    "job_sk = []\n",
    "\n",
    "try:\n",
    "    skills = driver.find_element(By.XPATH, f'//*[@id=\"projects\"]/div[{2}]/div[2]/div[3]/div')\n",
    "    skills = skills.find_elements(By.TAG_NAME, 'a')\n",
    "\n",
    "    for skill in skills:\n",
    "        s = skill.text\n",
    "        job_sk.append(skill.text)\n",
    "\n",
    "    job_sk = ', '.join(job_sk)\n",
    "    print(job_sk)\n",
    "except NoSuchElementException:\n",
    "    s = 'Não informado'\n",
    "    job_sk.append(s)\n",
    "    print(job_sk)"
   ]
  },
  {
   "cell_type": "code",
   "execution_count": 11,
   "metadata": {},
   "outputs": [],
   "source": [
    "# create data list\n",
    "data_temp = {'Job': job_title,'Publish Date': job_date, 'Skills': job_sk,  'Budget':job_budget, \n",
    "                'Bids': job_bids, 'Summary': job_desc, 'Link': job_link}\n",
    "\n",
    "data =[]\n",
    "data.append(data_temp)"
   ]
  },
  {
   "cell_type": "code",
   "execution_count": 12,
   "metadata": {},
   "outputs": [
    {
     "name": "stdout",
     "output_type": "stream",
     "text": [
      "1\n",
      "<class 'list'>\n",
      "dict_keys(['Job', 'Publish Date', 'Skills', 'Budget', 'Bids', 'Summary', 'Link'])\n",
      "Desenvolvimento de Ferramenta Para Checkout Web com Integrações com Erp\n",
      "[{'Job': 'Desenvolvimento de Ferramenta Para Checkout Web com Integrações com Erp', 'Publish Date': '11 de Maio de 2023 12:50', 'Skills': 'Magento, PHP, WordPress', 'Budget': 'USD 1.000 - 3.000', 'Bids': '1', 'Summary': 'Procuro dev full stack para projeto de desenvolvimento de ferramenta checkout web (no site do cliente) com integração api em erp.\\n\\nCategoria: TI e Programação\\nSubcategoria: Lojas Virtuais (e-commerce)\\nQual é o alcance do projeto?: Alteração média\\nIsso é um projeto ou uma posição de trabalho?: Um projeto\\n... Ver mais detalhes', 'Link': 'https://www.workana.com/job/desenvolvimento-de-ferramenta-para-checkout-web-com-integracoes-com-erp?ref=projects_1'}]\n"
     ]
    }
   ],
   "source": [
    "print(len(data))\n",
    "print(type(data))\n",
    "print(data[0].keys())\n",
    "print(data[0]['Job'])\n",
    "print(data)\n"
   ]
  },
  {
   "cell_type": "code",
   "execution_count": 13,
   "metadata": {},
   "outputs": [
    {
     "data": {
      "text/html": [
       "<div>\n",
       "<style scoped>\n",
       "    .dataframe tbody tr th:only-of-type {\n",
       "        vertical-align: middle;\n",
       "    }\n",
       "\n",
       "    .dataframe tbody tr th {\n",
       "        vertical-align: top;\n",
       "    }\n",
       "\n",
       "    .dataframe thead th {\n",
       "        text-align: right;\n",
       "    }\n",
       "</style>\n",
       "<table border=\"1\" class=\"dataframe\">\n",
       "  <thead>\n",
       "    <tr style=\"text-align: right;\">\n",
       "      <th></th>\n",
       "      <th>Job</th>\n",
       "      <th>Publish Date</th>\n",
       "      <th>Skills</th>\n",
       "      <th>Budget</th>\n",
       "      <th>Bids</th>\n",
       "      <th>Summary</th>\n",
       "      <th>Link</th>\n",
       "    </tr>\n",
       "  </thead>\n",
       "  <tbody>\n",
       "    <tr>\n",
       "      <th>0</th>\n",
       "      <td>Desenvolvimento de Ferramenta Para Checkout We...</td>\n",
       "      <td>11 de Maio de 2023 12:50</td>\n",
       "      <td>Magento, PHP, WordPress</td>\n",
       "      <td>USD 1.000 - 3.000</td>\n",
       "      <td>1</td>\n",
       "      <td>Procuro dev full stack para projeto de desenvo...</td>\n",
       "      <td>https://www.workana.com/job/desenvolvimento-de...</td>\n",
       "    </tr>\n",
       "  </tbody>\n",
       "</table>\n",
       "</div>"
      ],
      "text/plain": [
       "                                                 Job   \n",
       "0  Desenvolvimento de Ferramenta Para Checkout We...  \\\n",
       "\n",
       "               Publish Date                   Skills             Budget Bids   \n",
       "0  11 de Maio de 2023 12:50  Magento, PHP, WordPress  USD 1.000 - 3.000    1  \\\n",
       "\n",
       "                                             Summary   \n",
       "0  Procuro dev full stack para projeto de desenvo...  \\\n",
       "\n",
       "                                                Link  \n",
       "0  https://www.workana.com/job/desenvolvimento-de...  "
      ]
     },
     "execution_count": 13,
     "metadata": {},
     "output_type": "execute_result"
    }
   ],
   "source": [
    "# create dataframe\n",
    "df =pd.DataFrame(data)\n",
    "df"
   ]
  },
  {
   "attachments": {},
   "cell_type": "markdown",
   "metadata": {},
   "source": [
    "### Export CSV\n"
   ]
  },
  {
   "cell_type": "code",
   "execution_count": 14,
   "metadata": {},
   "outputs": [],
   "source": [
    "#create csv\n",
    "df.to_csv('../workana_scraping/data/one_job.csv', index=False)"
   ]
  },
  {
   "cell_type": "code",
   "execution_count": null,
   "metadata": {},
   "outputs": [],
   "source": []
  }
 ],
 "metadata": {
  "kernelspec": {
   "display_name": ".venv",
   "language": "python",
   "name": "python3"
  },
  "language_info": {
   "codemirror_mode": {
    "name": "ipython",
    "version": 3
   },
   "file_extension": ".py",
   "mimetype": "text/x-python",
   "name": "python",
   "nbconvert_exporter": "python",
   "pygments_lexer": "ipython3",
   "version": "3.11.2"
  },
  "orig_nbformat": 4
 },
 "nbformat": 4,
 "nbformat_minor": 2
}
