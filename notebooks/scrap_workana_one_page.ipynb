{
 "cells": [
  {
   "attachments": {},
   "cell_type": "markdown",
   "metadata": {},
   "source": [
    "# Workana Scrapp"
   ]
  },
  {
   "attachments": {},
   "cell_type": "markdown",
   "metadata": {},
   "source": [
    "## Scrapping one page with Selenium"
   ]
  },
  {
   "cell_type": "code",
   "execution_count": 1,
   "metadata": {},
   "outputs": [],
   "source": [
    "# import libs\n",
    "import pandas as pd\n",
    "import time\n",
    "\n",
    "from selenium import webdriver\n",
    "from selenium.webdriver.chrome.service import Service as ChromeService\n",
    "from webdriver_manager.chrome import ChromeDriverManager\n",
    "from selenium.webdriver.common.by import By\n",
    "from selenium.common.exceptions import NoSuchElementException\n"
   ]
  },
  {
   "cell_type": "code",
   "execution_count": 2,
   "metadata": {},
   "outputs": [],
   "source": [
    "# init session\n",
    "driver = webdriver.Chrome(service=ChromeService(ChromeDriverManager().install()))\n",
    "\n",
    "# maximizing browser window\n",
    "driver.maximize_window()"
   ]
  },
  {
   "cell_type": "code",
   "execution_count": 3,
   "metadata": {},
   "outputs": [],
   "source": [
    "# go to workana# go to workana\n",
    "driver.get(f'https://www.workana.com/jobs?language=pt&page={3}')\n",
    "\n",
    "time.sleep(5)"
   ]
  },
  {
   "cell_type": "code",
   "execution_count": 4,
   "metadata": {},
   "outputs": [],
   "source": [
    "# list for df\n",
    "data =[]\n",
    "\n",
    "# loop for all jobs in page\n",
    "for i in range(2, 11):\n",
    "    # print(i)\n",
    "    \n",
    "    # title\n",
    "    job_title = driver.find_element(By.XPATH, f'//*[@id=\"projects\"]/div[{i}]/div[1]/h2/a/span')\n",
    "    job_title = job_title.get_attribute('title')\n",
    "    # print(job_title)\n",
    "\n",
    "    # date\n",
    "    job_date = driver.find_element(By.XPATH, f'//*[@id=\"projects\"]/div[{i}]/div[1]/h5')\n",
    "    job_date = job_date.get_attribute('title')\n",
    "\n",
    "    # job_link\n",
    "    job_link = driver.find_element(By.XPATH, f'//*[@id=\"projects\"]/div[{i}]/div[1]/h2/a')\n",
    "    job_link = job_link.get_attribute('href')\n",
    "\n",
    "    # bids\n",
    "    job_bids = driver.find_element(By.XPATH, f'//*[@id=\"projects\"]/div[{i}]/div[2]/div[1]/span[2]')\n",
    "    job_bids = job_bids.text.split(' ')[1]\n",
    "\n",
    "    # budget\n",
    "    job_budget = driver.find_element(By.XPATH, f'//*[@id=\"projects\"]/div[{i}]/div[3]/h4/span')\n",
    "    job_budget = job_budget.text\n",
    "\n",
    "    # job description\n",
    "    job_desc = driver.find_element(By.XPATH, f'//*[@id=\"projects\"]/div[{i}]/div[2]/div[2]/div')\n",
    "    job_desc = job_desc.text \n",
    "\n",
    "    # get job skills \n",
    "    job_sk = []\n",
    "\n",
    "    try:\n",
    "        skills = driver.find_element(By.XPATH, f'//*[@id=\"projects\"]/div[{i}]/div[2]/div[3]/div')\n",
    "        skills = skills.find_elements(By.TAG_NAME, 'a')\n",
    "    \n",
    "        for skill in skills:\n",
    "            job_sk.append(skill.text)\n",
    "\n",
    "        job_sk = ', '.join(job_sk)\n",
    "    except NoSuchElementException:\n",
    "        s = 'Não informado'\n",
    "        job_sk.append(s)\n",
    "\n",
    "    # create data list\n",
    "    data_temp = {'Job': job_title,'Publish Date': job_date, 'Skills': job_sk,  'Budget':job_budget, \n",
    "                'Bids': job_bids, 'Summary': job_desc, 'Link': job_link}\n",
    "\n",
    "    data.append(data_temp)\n",
    "# print(data)"
   ]
  },
  {
   "cell_type": "code",
   "execution_count": 5,
   "metadata": {},
   "outputs": [],
   "source": [
    "# for i in range(0,9):\n",
    "#     print(data[i])"
   ]
  },
  {
   "cell_type": "code",
   "execution_count": 6,
   "metadata": {},
   "outputs": [],
   "source": [
    "# print('Titilo:',job_title)\n",
    "# print('Publicação:',job_date)\n",
    "# print(job_desc)\n",
    "# print(job_link)\n",
    "# print('Propostas:',job_bids)\n",
    "# print('Valor:',job_budget)\n",
    "# print('Skills:',job_sk)"
   ]
  },
  {
   "cell_type": "code",
   "execution_count": 7,
   "metadata": {},
   "outputs": [
    {
     "data": {
      "text/html": [
       "<div>\n",
       "<style scoped>\n",
       "    .dataframe tbody tr th:only-of-type {\n",
       "        vertical-align: middle;\n",
       "    }\n",
       "\n",
       "    .dataframe tbody tr th {\n",
       "        vertical-align: top;\n",
       "    }\n",
       "\n",
       "    .dataframe thead th {\n",
       "        text-align: right;\n",
       "    }\n",
       "</style>\n",
       "<table border=\"1\" class=\"dataframe\">\n",
       "  <thead>\n",
       "    <tr style=\"text-align: right;\">\n",
       "      <th></th>\n",
       "      <th>Job</th>\n",
       "      <th>Publish Date</th>\n",
       "      <th>Skills</th>\n",
       "      <th>Budget</th>\n",
       "      <th>Bids</th>\n",
       "      <th>Summary</th>\n",
       "      <th>Link</th>\n",
       "    </tr>\n",
       "  </thead>\n",
       "  <tbody>\n",
       "    <tr>\n",
       "      <th>0</th>\n",
       "      <td>Desenvolvimento de Ferramenta Para Checkout We...</td>\n",
       "      <td>11 de Maio de 2023 12:50</td>\n",
       "      <td>Magento, PHP, WordPress</td>\n",
       "      <td>USD 1.000 - 3.000</td>\n",
       "      <td>1</td>\n",
       "      <td>Procuro dev full stack para projeto de desenvo...</td>\n",
       "      <td>https://www.workana.com/job/desenvolvimento-de...</td>\n",
       "    </tr>\n",
       "    <tr>\n",
       "      <th>1</th>\n",
       "      <td>Captação de dados automatizados</td>\n",
       "      <td>10 de Maio de 2023 23:27</td>\n",
       "      <td>JavaScript, MySQL, PHP, API, HTML, HTML5, Python</td>\n",
       "      <td>USD 250 - 500</td>\n",
       "      <td>16</td>\n",
       "      <td>Estou procurando um dev que possa extrair dado...</td>\n",
       "      <td>https://www.workana.com/job/captacao-de-dados-...</td>\n",
       "    </tr>\n",
       "    <tr>\n",
       "      <th>2</th>\n",
       "      <td>Preciso de 1 Menina para entrar em contatos co...</td>\n",
       "      <td>11 de Maio de 2023 13:28</td>\n",
       "      <td>Skype, Marketing, Vendas</td>\n",
       "      <td>USD 50 - 100</td>\n",
       "      <td>0</td>\n",
       "      <td>Preciso de 1 menina para entrar em contato com...</td>\n",
       "      <td>https://www.workana.com/job/preciso-de-1-menin...</td>\n",
       "    </tr>\n",
       "  </tbody>\n",
       "</table>\n",
       "</div>"
      ],
      "text/plain": [
       "                                                 Job   \n",
       "0  Desenvolvimento de Ferramenta Para Checkout We...  \\\n",
       "1                    Captação de dados automatizados   \n",
       "2  Preciso de 1 Menina para entrar em contatos co...   \n",
       "\n",
       "               Publish Date                                            Skills   \n",
       "0  11 de Maio de 2023 12:50                           Magento, PHP, WordPress  \\\n",
       "1  10 de Maio de 2023 23:27  JavaScript, MySQL, PHP, API, HTML, HTML5, Python   \n",
       "2  11 de Maio de 2023 13:28                          Skype, Marketing, Vendas   \n",
       "\n",
       "              Budget Bids                                            Summary   \n",
       "0  USD 1.000 - 3.000    1  Procuro dev full stack para projeto de desenvo...  \\\n",
       "1      USD 250 - 500   16  Estou procurando um dev que possa extrair dado...   \n",
       "2       USD 50 - 100    0  Preciso de 1 menina para entrar em contato com...   \n",
       "\n",
       "                                                Link  \n",
       "0  https://www.workana.com/job/desenvolvimento-de...  \n",
       "1  https://www.workana.com/job/captacao-de-dados-...  \n",
       "2  https://www.workana.com/job/preciso-de-1-menin...  "
      ]
     },
     "execution_count": 7,
     "metadata": {},
     "output_type": "execute_result"
    }
   ],
   "source": [
    "# create dataframe\n",
    "df_raw =pd.DataFrame(data)\n",
    "df_raw.head(3)"
   ]
  },
  {
   "attachments": {},
   "cell_type": "markdown",
   "metadata": {},
   "source": [
    "## Exploratory analysis and data processing"
   ]
  },
  {
   "attachments": {},
   "cell_type": "markdown",
   "metadata": {},
   "source": [
    "### Knowing dataframe"
   ]
  },
  {
   "cell_type": "code",
   "execution_count": 8,
   "metadata": {},
   "outputs": [],
   "source": [
    "df = df_raw.copy()"
   ]
  },
  {
   "cell_type": "code",
   "execution_count": 9,
   "metadata": {},
   "outputs": [
    {
     "name": "stdout",
     "output_type": "stream",
     "text": [
      "(9, 7)\n"
     ]
    }
   ],
   "source": [
    "# dataframe shape\n",
    "print(df.shape)"
   ]
  },
  {
   "cell_type": "code",
   "execution_count": 10,
   "metadata": {},
   "outputs": [
    {
     "name": "stdout",
     "output_type": "stream",
     "text": [
      "Job             object\n",
      "Publish Date    object\n",
      "Skills          object\n",
      "Budget          object\n",
      "Bids            object\n",
      "Summary         object\n",
      "Link            object\n",
      "dtype: object\n"
     ]
    }
   ],
   "source": [
    "# column types\n",
    "print(df.dtypes)"
   ]
  },
  {
   "cell_type": "code",
   "execution_count": 11,
   "metadata": {},
   "outputs": [
    {
     "name": "stdout",
     "output_type": "stream",
     "text": [
      "Valores únicos em: ['Job', 'Summary', 'Link']\n",
      "Valores repetidos em: ['Publish Date', 'Skills', 'Budget', 'Bids']\n"
     ]
    }
   ],
   "source": [
    "# check if column has unique values\n",
    "vu=[]\n",
    "vr=[]\n",
    "for c in df.columns:\n",
    "    try:\n",
    "        df[c].is_unique\n",
    "        if df[c].is_unique == True:\n",
    "            vu.append(c)\n",
    "        else:\n",
    "            vr.append(c)\n",
    "    except:\n",
    "        print(f'Erros encontrados em: {c}')\n",
    "\n",
    "print(f'Valores únicos em: {vu}')\n",
    "print(f'Valores repetidos em: {vr}')\n",
    "    "
   ]
  },
  {
   "cell_type": "code",
   "execution_count": 12,
   "metadata": {},
   "outputs": [
    {
     "name": "stdout",
     "output_type": "stream",
     "text": [
      "Valores nulos em Job: 0\n",
      "Valores nulos em Publish Date: 0\n",
      "Valores nulos em Skills: 0\n",
      "Valores nulos em Budget: 0\n",
      "Valores nulos em Bids: 0\n",
      "Valores nulos em Summary: 0\n",
      "Valores nulos em Link: 0\n"
     ]
    }
   ],
   "source": [
    "# search for null values\n",
    "# df.shape = (9, 7)\n",
    "for c in df.columns:\n",
    "    try:\n",
    "        num_nulls = df.shape[0] - df[c].count()\n",
    "        print(f'Valores nulos em {c}:',num_nulls)\n",
    "    except:\n",
    "        print(f'Erros encontrados em: {c}')"
   ]
  },
  {
   "cell_type": "code",
   "execution_count": 13,
   "metadata": {},
   "outputs": [
    {
     "name": "stdout",
     "output_type": "stream",
     "text": [
      "<class 'pandas.core.frame.DataFrame'>\n",
      "RangeIndex: 9 entries, 0 to 8\n",
      "Data columns (total 7 columns):\n",
      " #   Column        Non-Null Count  Dtype \n",
      "---  ------        --------------  ----- \n",
      " 0   Job           9 non-null      object\n",
      " 1   Publish Date  9 non-null      object\n",
      " 2   Skills        9 non-null      object\n",
      " 3   Budget        9 non-null      object\n",
      " 4   Bids          9 non-null      object\n",
      " 5   Summary       9 non-null      object\n",
      " 6   Link          9 non-null      object\n",
      "dtypes: object(7)\n",
      "memory usage: 636.0+ bytes\n"
     ]
    }
   ],
   "source": [
    "df.info()"
   ]
  },
  {
   "attachments": {},
   "cell_type": "markdown",
   "metadata": {},
   "source": [
    "### Changing data types"
   ]
  },
  {
   "cell_type": "code",
   "execution_count": 14,
   "metadata": {},
   "outputs": [
    {
     "name": "stdout",
     "output_type": "stream",
     "text": [
      "<class 'pandas.core.frame.DataFrame'>\n",
      "RangeIndex: 9 entries, 0 to 8\n",
      "Data columns (total 7 columns):\n",
      " #   Column        Non-Null Count  Dtype \n",
      "---  ------        --------------  ----- \n",
      " 0   Job           9 non-null      object\n",
      " 1   Publish Date  9 non-null      object\n",
      " 2   Skills        9 non-null      object\n",
      " 3   Budget        9 non-null      object\n",
      " 4   Bids          9 non-null      int64 \n",
      " 5   Summary       9 non-null      object\n",
      " 6   Link          9 non-null      object\n",
      "dtypes: int64(1), object(6)\n",
      "memory usage: 636.0+ bytes\n",
      "None\n"
     ]
    }
   ],
   "source": [
    "# change Bids to int type\n",
    "df['Bids'] = df['Bids'].astype(int)\n",
    "\n",
    "print(df.info())"
   ]
  },
  {
   "attachments": {},
   "cell_type": "markdown",
   "metadata": {},
   "source": [
    "#### Change date type"
   ]
  },
  {
   "cell_type": "code",
   "execution_count": 15,
   "metadata": {},
   "outputs": [],
   "source": [
    "months = {\n",
    "    'Janeiro': 'January',\n",
    "    'Fevereiro': 'February',\n",
    "    'Março': 'March',\n",
    "    'Abril': 'April',\n",
    "    'Maio': 'May',\n",
    "    'Junho': 'June',\n",
    "    'Julho': 'July',\n",
    "    'Agosto': 'August',\n",
    "    'Setembro': 'September',\n",
    "    'Outubro': 'October',\n",
    "    'Novembro': 'November',\n",
    "    'Dezembro': 'December'\n",
    "}"
   ]
  },
  {
   "cell_type": "code",
   "execution_count": 16,
   "metadata": {},
   "outputs": [
    {
     "name": "stdout",
     "output_type": "stream",
     "text": [
      "<class 'pandas.core.frame.DataFrame'>\n",
      "RangeIndex: 9 entries, 0 to 8\n",
      "Data columns (total 7 columns):\n",
      " #   Column        Non-Null Count  Dtype         \n",
      "---  ------        --------------  -----         \n",
      " 0   Job           9 non-null      object        \n",
      " 1   Publish Date  9 non-null      datetime64[ns]\n",
      " 2   Skills        9 non-null      object        \n",
      " 3   Budget        9 non-null      object        \n",
      " 4   Bids          9 non-null      int64         \n",
      " 5   Summary       9 non-null      object        \n",
      " 6   Link          9 non-null      object        \n",
      "dtypes: datetime64[ns](1), int64(1), object(5)\n",
      "memory usage: 636.0+ bytes\n",
      "None\n"
     ]
    }
   ],
   "source": [
    "# replaces month names in portuguese with their english equivalents\n",
    "for m_pt, m_en in months.items():\n",
    "    df['Publish Date'] = df['Publish Date'].str.replace(m_pt, m_en)\n",
    "    df['Publish Date'] = df['Publish Date'].str.replace(' de ', ' ')\n",
    "\n",
    "# change type\n",
    "df['Publish Date'] = pd.to_datetime(df['Publish Date'], format='%d %B %Y %H:%M')\n",
    "df['Publish Date']\n",
    "\n",
    "print(df.info())"
   ]
  },
  {
   "attachments": {},
   "cell_type": "markdown",
   "metadata": {},
   "source": [
    "### Prepare data to analysis\n"
   ]
  },
  {
   "attachments": {},
   "cell_type": "markdown",
   "metadata": {},
   "source": [
    "#### Create dummy columns from Skills"
   ]
  },
  {
   "cell_type": "code",
   "execution_count": 17,
   "metadata": {},
   "outputs": [],
   "source": [
    "# print(df['Skills'],'\\n')\n",
    "# print(df['Skills'][0],'\\n')\n",
    "# print(type(df['Skills'][0]))"
   ]
  },
  {
   "cell_type": "code",
   "execution_count": 18,
   "metadata": {},
   "outputs": [],
   "source": [
    "# Replace substring - exclude spaces -ok\n",
    "df['Skills'] = df['Skills'].replace(' ','', regex=True)\n",
    "# df.head(1)"
   ]
  },
  {
   "cell_type": "code",
   "execution_count": 19,
   "metadata": {},
   "outputs": [
    {
     "data": {
      "text/plain": [
       "(9, 33)"
      ]
     },
     "execution_count": 19,
     "metadata": {},
     "output_type": "execute_result"
    }
   ],
   "source": [
    "# create dummy columns\n",
    "df = pd.concat([df, df['Skills'].str.get_dummies(sep=',')], axis = 1)\n",
    "if '+' in df.columns:\n",
    "    df.drop('+', axis=1, inplace=True)\n",
    "df.shape"
   ]
  },
  {
   "attachments": {},
   "cell_type": "markdown",
   "metadata": {},
   "source": [
    "#### Remove some text from Summary"
   ]
  },
  {
   "cell_type": "code",
   "execution_count": 20,
   "metadata": {},
   "outputs": [
    {
     "name": "stdout",
     "output_type": "stream",
     "text": [
      "Estou procurando um dev que possa extrair dados de forma automatizada de alguns sites para geração de uma planilha para futura exportação.\n",
      "\n",
      "Categoria: TI e Programação\n",
      "Subcategoria: Programação\n",
      "Qual é o alcance do projeto?: Alteração média\n",
      "Isso é um projeto ou uma posição de trabalho?: Um projeto\n",
      "Tenho,\n",
      "DataFrame atualizado:\n"
     ]
    }
   ],
   "source": [
    "# percorrendo todas as linhas da coluna 'Descrição'\n",
    "for i in range(len(df['Summary'])):\n",
    "    # buscando pela substring 'Ver mais'\n",
    "    index = df.loc[i, 'Summary'].find('...')\n",
    "    if index != -1:\n",
    "        # removendo tudo o que estiver após a substring\n",
    "        df.loc[i, 'Summary'] = df.loc[i, 'Summary'][:index]\n",
    "        \n",
    "# exibindo o DataFrame atualizado\n",
    "print(df.iloc[1]['Summary'])\n",
    "\n",
    "print('DataFrame atualizado:')"
   ]
  },
  {
   "cell_type": "code",
   "execution_count": 21,
   "metadata": {},
   "outputs": [],
   "source": [
    "# df.info()\n",
    "# df.head()"
   ]
  },
  {
   "attachments": {},
   "cell_type": "markdown",
   "metadata": {},
   "source": [
    "### Export CSV"
   ]
  },
  {
   "cell_type": "code",
   "execution_count": 22,
   "metadata": {},
   "outputs": [],
   "source": [
    "#create csv\n",
    "df.to_csv('../workana_scraping/data/one_page.csv', index=False)"
   ]
  }
 ],
 "metadata": {
  "kernelspec": {
   "display_name": ".venv",
   "language": "python",
   "name": "python3"
  },
  "language_info": {
   "codemirror_mode": {
    "name": "ipython",
    "version": 3
   },
   "file_extension": ".py",
   "mimetype": "text/x-python",
   "name": "python",
   "nbconvert_exporter": "python",
   "pygments_lexer": "ipython3",
   "version": "3.11.2"
  },
  "orig_nbformat": 4
 },
 "nbformat": 4,
 "nbformat_minor": 2
}
