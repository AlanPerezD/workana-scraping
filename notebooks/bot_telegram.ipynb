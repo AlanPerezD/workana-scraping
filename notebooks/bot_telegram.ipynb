{
 "cells": [
  {
   "cell_type": "code",
   "execution_count": 1,
   "metadata": {},
   "outputs": [],
   "source": [
    "import os\n",
    "import telebot\n",
    "import requests\n",
    "import pandas as pd\n",
    "from dotenv import load_dotenv\n",
    "\n",
    "load_dotenv()\n",
    "BOT_TOKEN = os.getenv(\"BOT_TOKEN\")\n",
    "# BOT_TOKEN = '6044097932:AAE8zeXJM1ccZ4ZjViNwbXhMzkTQy0seZ0A'\n",
    "\n",
    "bot = telebot.TeleBot(BOT_TOKEN)"
   ]
  },
  {
   "cell_type": "code",
   "execution_count": 2,
   "metadata": {},
   "outputs": [],
   "source": [
    "df = pd.read_csv(\"../workana_scraping/data/data_t.csv\")\n",
    "# df.head(1)"
   ]
  },
  {
   "cell_type": "code",
   "execution_count": 3,
   "metadata": {},
   "outputs": [],
   "source": [
    "# fixing type\n",
    "df[\"Publish Date\"] = pd.to_datetime(df[\"Publish Date\"])\n",
    "# acertando o fuso\n",
    "df[\"Publish Date\"] = df[\"Publish Date\"] - pd.Timedelta(hours=3)\n",
    "# sort by date\n",
    "df = df.sort_values(by=\"Publish Date\", ascending=False)"
   ]
  },
  {
   "cell_type": "code",
   "execution_count": 4,
   "metadata": {},
   "outputs": [
    {
     "data": {
      "text/plain": [
       "Job       Desenvolvimento de Ferramenta Para Checkout We...\n",
       "Skills                                Magento,PHP,WordPress\n",
       "Bids                                                      4\n",
       "Name: 1, dtype: object"
      ]
     },
     "execution_count": 4,
     "metadata": {},
     "output_type": "execute_result"
    }
   ],
   "source": [
    "df.loc[1, [\"Job\", \"Skills\", \"Bids\"]]"
   ]
  },
  {
   "attachments": {},
   "cell_type": "markdown",
   "metadata": {},
   "source": [
    "## O bot"
   ]
  },
  {
   "cell_type": "code",
   "execution_count": 5,
   "metadata": {},
   "outputs": [],
   "source": [
    "@bot.message_handler(commands=[\"help\", \"start\"])\n",
    "def send_help(message):\n",
    "    help_text = \"🤖 Olá! Bora conseguir um freela?\\n\"\n",
    "    help_text += \"Sou um bot que captura e envia trabalhos disponíveis no Workana.\\n\"\n",
    "    help_text += \"Ainda estou em desenvolvimento, caso queira sugerir modificações fique a vontade para entrar em contato.\\n\"\n",
    "    help_text += \"\\nAqui está uma lista de comandos que eu entendo:\\n\"\n",
    "    help_text += \"/start - Comece a interagir\\n\"\n",
    "    help_text += \"/help - Precisando de ajuda?\\n\"\n",
    "    help_text += \"/last - Informações do último trabalho\\n\"\n",
    "    help_text += \"/info - Obter informações sobre o bot\\n\"\n",
    "    help_text += \"/apoio - Para apoiar este projeto\\n\"\n",
    "    help_text += \"/surpresa - Vai encarar?\\n\"\n",
    "    bot.reply_to(message, help_text, parse_mode=\"Markdown\")"
   ]
  },
  {
   "cell_type": "code",
   "execution_count": 6,
   "metadata": {},
   "outputs": [],
   "source": [
    "@bot.message_handler(commands=[\"last\"])\n",
    "def get_last_job(message):\n",
    "    job = df.loc[0, \"Job\"]\n",
    "    date = df.loc[0, \"Publish Date\"]\n",
    "    skills = df.loc[0, \"Skills\"]\n",
    "    budget = df.loc[0, \"Budget\"]\n",
    "    bids = df.loc[0, \"Bids\"]\n",
    "    summary = df.loc[0, \"Summary\"]\n",
    "    link = df.loc[0, \"Link\"]\n",
    "    category = df.loc[0, \"Category\"]\n",
    "    # get_last_job_text = f'{job}\\n{date}\\n{skills}\\n{budget}\\n{bids}\\n{summary}\\n{link}\\n{category}\\n'\n",
    "    get_last_job_text = f\"{job} \\n Categoria: {category} \\n Publicado: {date} \\n Skills: {skills} \\n Budget: {budget} \\n Propostas: {bids} \\n Resumo:\\n {summary} \"\n",
    "    bot.reply_to(message, get_last_job_text, parse_mode=\"Markdown\")"
   ]
  },
  {
   "cell_type": "code",
   "execution_count": 7,
   "metadata": {},
   "outputs": [
    {
     "data": {
      "text/plain": [
       "'*Design para Marketing em mídias sociais*\\n2023-05-11 11:53:00\\nDesignGráfico,AdobeIllustrator,AdobePhotoshop\\nMais de USD 45 / hora\\n2\\nDesenvolver peças de campanhas para Instagram, Linkedin Facebook e fazer tublr para vídeos no youtube. Necessário Figma e pacote adobe. As entregas são dinâmicas e recorrentes\\nhttps://www.workana.com/job/design-para-marketing-em-midias-sociais?ref=projects_1\\nDesign e Multimedia\\n'"
      ]
     },
     "execution_count": 7,
     "metadata": {},
     "output_type": "execute_result"
    }
   ],
   "source": [
    "job = df.loc[0, \"Job\"]\n",
    "date = df.loc[0, \"Publish Date\"]\n",
    "skills = df.loc[0, \"Skills\"]\n",
    "budget = df.loc[0, \"Budget\"]\n",
    "bids = df.loc[0, \"Bids\"]\n",
    "summary = df.loc[0, \"Summary\"]\n",
    "link = df.loc[0, \"Link\"]\n",
    "category = df.loc[0, \"Category\"]\n",
    "get_last_job_text = (\n",
    "    f\"*{job}*\\n{date}\\n{skills}\\n{budget}\\n{bids}\\n{summary}\\n{link}\\n{category}\\n\"\n",
    ")\n",
    "get_last_job_text"
   ]
  },
  {
   "cell_type": "code",
   "execution_count": 8,
   "metadata": {},
   "outputs": [],
   "source": [
    "linkedin = \"https://www.linkedin.com/in/luizpaulocoutinho/\"\n",
    "\n",
    "\n",
    "@bot.message_handler(commands=[\"info\"])\n",
    "def info(message):\n",
    "    bot.reply_to(\n",
    "        message,\n",
    "        f\"ℹ️ FreelaJobs ℹ️\\n\\nEste bot é desenvolvido por <b>Luiz Paulo Coutinho</b>.\\nFique a vontade para entrar em contato no Linkedin. {linkedin}\",\n",
    "        parse_mode=\"HTML\",\n",
    "    )"
   ]
  },
  {
   "cell_type": "code",
   "execution_count": 9,
   "metadata": {},
   "outputs": [],
   "source": [
    "@bot.message_handler(commands=[\"apoio\"])\n",
    "def info(message):\n",
    "    bot.reply_to(message, f\"🤑 Apoie o projeto, me envie um pix!\")"
   ]
  },
  {
   "cell_type": "code",
   "execution_count": 10,
   "metadata": {},
   "outputs": [],
   "source": [
    "text = \"\"\"\n",
    "    _________         .    .\n",
    "    (..       \\_    ,  |\\  /|\n",
    "    \\       0  \\  /|  \\ \\/ /\n",
    "    \\______    \\/ |   \\  /\n",
    "        vvvv\\    \\ |   /  |\n",
    "        \\^^^^  ==   \\_/   |\n",
    "        `\\_   ===    \\.  |\n",
    "        / /\\_   \\ /      |\n",
    "        |/   \\_  \\|      /\n",
    "                \\________/\n",
    "\n",
    "\n",
    ".-. .-.   .-. .  . .-. \n",
    " |  |-    |-| |\\/| | | \n",
    " '  `-'   ` ' '  ` `-'                          \n",
    "     \n",
    "\"\"\"\n",
    "\n",
    "\n",
    "@bot.message_handler(commands=[\"surpresa\"])\n",
    "def info(message):\n",
    "    bot.reply_to(message, text)"
   ]
  },
  {
   "cell_type": "code",
   "execution_count": 11,
   "metadata": {},
   "outputs": [
    {
     "name": "stderr",
     "output_type": "stream",
     "text": [
      "2023-05-11 21:47:05,982 (__init__.py:966 MainThread) ERROR - TeleBot: \"Infinity polling: polling exited\"\n",
      "2023-05-11 21:47:06,048 (__init__.py:968 MainThread) ERROR - TeleBot: \"Break infinity polling\"\n"
     ]
    }
   ],
   "source": [
    "bot.infinity_polling()"
   ]
  }
 ],
 "metadata": {
  "kernelspec": {
   "display_name": ".venv",
   "language": "python",
   "name": "python3"
  },
  "language_info": {
   "codemirror_mode": {
    "name": "ipython",
    "version": 3
   },
   "file_extension": ".py",
   "mimetype": "text/x-python",
   "name": "python",
   "nbconvert_exporter": "python",
   "pygments_lexer": "ipython3",
   "version": "3.11.2"
  },
  "orig_nbformat": 4
 },
 "nbformat": 4,
 "nbformat_minor": 2
}
